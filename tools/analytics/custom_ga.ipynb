{
 "cells": [
  {
   "cell_type": "markdown",
   "metadata": {},
   "source": [
    "# Pre-requisite installations if needed"
   ]
  },
  {
   "cell_type": "code",
   "execution_count": null,
   "metadata": {},
   "outputs": [],
   "source": [
    "!pip install oauth2client\n",
    "!pip install google-api-python-client\n",
    "!pip install ipywidgets\n",
    "!pip install plotly\n",
    "!pip install tqdm"
   ]
  },
  {
   "cell_type": "markdown",
   "metadata": {},
   "source": [
    "# --------------------------------------------------------------------------------------------------"
   ]
  },
  {
   "cell_type": "code",
   "execution_count": 1,
   "metadata": {},
   "outputs": [],
   "source": [
    "import argparse\n",
    "import pandas as pd\n",
    "import json\n",
    "import os\n",
    "import ipywidgets as widgets\n",
    "from pathlib import Path\n",
    "from datetime import datetime, timedelta\n",
    "from dateutil.relativedelta import relativedelta\n",
    "import calendar\n",
    "\n",
    "from tqdm.notebook import tqdm, trange\n",
    "\n",
    "import plotly\n",
    "import plotly.graph_objs as go\n",
    "import plotly.express as px\n",
    "import plotly.io as pio\n",
    "\n",
    "from apiclient.discovery import build\n",
    "from oauth2client.service_account import ServiceAccountCredentials\n",
    "\n",
    "import httplib2\n",
    "from oauth2client import client\n",
    "from oauth2client import file\n",
    "from oauth2client import tools\n",
    "from helper_functions import initialize_analyticsreporting, get_report, print_response, VIEW_ID, next_date_interval, progress_bar_counter\n",
    "\n",
    "pio.renderers.default = \"iframe\"\n",
    "\n",
    "analytics = initialize_analyticsreporting()"
   ]
  },
  {
   "cell_type": "markdown",
   "metadata": {},
   "source": [
    "# --------------------------------------------------------------------------------------------------"
   ]
  },
  {
   "cell_type": "markdown",
   "metadata": {},
   "source": [
    "#### The cell below will render the widgets needed to select the items in the graph. This cell only needs to be run ONCE (to show the widgets only). After display, you don't have to run this cell. The report/graph will include the end date."
   ]
  },
  {
   "cell_type": "markdown",
   "metadata": {},
   "source": [
    "# --------------------------------------------------------------------------------------------------"
   ]
  },
  {
   "cell_type": "code",
   "execution_count": 7,
   "metadata": {},
   "outputs": [
    {
     "data": {
      "application/vnd.jupyter.widget-view+json": {
       "model_id": "ba39620554ca4ff69870aacc22affe30",
       "version_major": 2,
       "version_minor": 0
      },
      "text/plain": [
       "Dropdown(description='Option:', options=('New/Returning Users', 'App Launched - OS', 'App Launched - SODA', 'M…"
      ]
     },
     "metadata": {},
     "output_type": "display_data"
    },
    {
     "data": {
      "application/vnd.jupyter.widget-view+json": {
       "model_id": "2c6da609f29c4f418d507d557a3e35dd",
       "version_major": 2,
       "version_minor": 0
      },
      "text/plain": [
       "DatePicker(value=None, description='Start Date:')"
      ]
     },
     "metadata": {},
     "output_type": "display_data"
    },
    {
     "data": {
      "application/vnd.jupyter.widget-view+json": {
       "model_id": "acbab1743d1e40ad9fc516b14bf12f6a",
       "version_major": 2,
       "version_minor": 0
      },
      "text/plain": [
       "DatePicker(value=None, description='End Date:')"
      ]
     },
     "metadata": {},
     "output_type": "display_data"
    },
    {
     "data": {
      "application/vnd.jupyter.widget-view+json": {
       "model_id": "0ad9282353644dbd9533f3a2044e11ef",
       "version_major": 2,
       "version_minor": 0
      },
      "text/plain": [
       "Dropdown(description='Update Interval:', options=('Daily', 'Weekly', 'Monthly'), value='Daily')"
      ]
     },
     "metadata": {},
     "output_type": "display_data"
    }
   ],
   "source": [
    "feature = widgets.Dropdown(\n",
    "    options=[\n",
    "        'New/Returning Users',\n",
    "        'App Launched - OS', \n",
    "        'App Launched - SODA', \n",
    "        'Manage Dataset - Create Empty Dataset', \n",
    "        'Manage Dataset - Rename Existing Dataset', \n",
    "        'Manage Dataset - Change PI owner', \n",
    "        'Manage Dataset - Add User Permission',\n",
    "        'Manage Dataset - Add/Edit Subtitle',\n",
    "        'Manage Dataset - Add/Edit Description', \n",
    "        'Manage Dataset - Upload Banner Image', \n",
    "        'Manage Dataset - Assign License',\n",
    "        'Manage Dataset - Upload Local Dataset', \n",
    "        'Manage Dataset - Change Dataset Status',\n",
    "        'Prepare Metadata - Add Airtable account',\n",
    "        'Prepare Metadata - Add DDD',\n",
    "        'Prepare Metadata - Create Submission',\n",
    "        'Prepare Metadata - Create dataset_description',\n",
    "        'Generate Dataset - Local',\n",
    "        'Generate Dataset - Blackfynn',\n",
    "        'Generate Dataset - Pennsieve', \n",
    "        'Manifest Files Created - Blackfynn', \n",
    "        'Disseminate Dataset - Share with Curation Team', \n",
    "        'Disseminate Dataset - Share with Consortium',\n",
    "        'Disseminate Dataset - Pre-publishing Review'],\n",
    "    value='New/Returning Users',\n",
    "    description='Option:',\n",
    "    disabled=False,\n",
    ")\n",
    "\n",
    "start_date = widgets.DatePicker(description='Start Date:', disabled=False)\n",
    "end_date = widgets.DatePicker(description='End Date:', disabled=False)\n",
    "\n",
    "update_interval = widgets.Dropdown(options=['Daily', 'Weekly', 'Monthly'], description='Update Interval:', disabled=False)\n",
    "\n",
    "display(feature, start_date, end_date, update_interval)"
   ]
  },
  {
   "cell_type": "markdown",
   "metadata": {},
   "source": [
    "# --------------------------------------------------------------------------------------------------"
   ]
  },
  {
   "cell_type": "markdown",
   "metadata": {},
   "source": [
    "#### The cell below is a basic function that uses the widgets in the cell above to create a graph. If the widgets are not showing, run the widget cell. You don't have to run it again after selecting a value. Changing the value of the dropdown will dynamically change the value of the variable in the next cell."
   ]
  },
  {
   "cell_type": "markdown",
   "metadata": {},
   "source": [
    "# --------------------------------------------------------------------------------------------------"
   ]
  },
  {
   "cell_type": "code",
   "execution_count": 22,
   "metadata": {},
   "outputs": [
    {
     "data": {
      "application/vnd.jupyter.widget-view+json": {
       "model_id": "0ab42b8c8f5e4595a283850e989ea4b5",
       "version_major": 2,
       "version_minor": 0
      },
      "text/plain": [
       "HBox(children=(HTML(value=''), FloatProgress(value=0.0, max=15.0), HTML(value='')))"
      ]
     },
     "metadata": {},
     "output_type": "display_data"
    },
    {
     "name": "stdout",
     "output_type": "stream",
     "text": [
      "\n",
      "['20 Apr, 2021', 3]\n",
      "['21 Apr, 2021', 2]\n",
      "\n",
      "['23 Apr, 2021', 1]\n",
      "['24 Apr, 2021', 1]\n",
      "\n",
      "['27 Apr, 2021', 1]\n",
      "\n",
      "             Day  Frequency\n",
      "0   13 Apr, 2021          0\n",
      "1   13 Apr, 2021          0\n",
      "2   14 Apr, 2021          0\n",
      "3   14 Apr, 2021          0\n",
      "4   15 Apr, 2021          0\n",
      "5   15 Apr, 2021          0\n",
      "6   16 Apr, 2021          0\n",
      "7   16 Apr, 2021          0\n",
      "8   17 Apr, 2021          0\n",
      "9   17 Apr, 2021          0\n",
      "10  18 Apr, 2021          0\n",
      "11  18 Apr, 2021          0\n",
      "12  19 Apr, 2021          2\n",
      "13  19 Apr, 2021          0\n",
      "14  20 Apr, 2021          3\n",
      "15  20 Apr, 2021          4\n",
      "16  20 Apr, 2021          0\n",
      "17  21 Apr, 2021          2\n",
      "18  21 Apr, 2021          7\n",
      "19  21 Apr, 2021          0\n",
      "20  22 Apr, 2021          2\n",
      "21  22 Apr, 2021          0\n",
      "22  23 Apr, 2021          1\n",
      "23  23 Apr, 2021          4\n",
      "24  23 Apr, 2021          0\n",
      "25  24 Apr, 2021          1\n",
      "26  24 Apr, 2021          0\n",
      "27  24 Apr, 2021          0\n",
      "28  25 Apr, 2021          0\n",
      "29  25 Apr, 2021          0\n",
      "30  26 Apr, 2021          1\n",
      "31  26 Apr, 2021          0\n",
      "32  27 Apr, 2021          1\n",
      "33  27 Apr, 2021          3\n",
      "34  27 Apr, 2021          0\n",
      "             Day  Frequency\n",
      "0   13 Apr, 2021          0\n",
      "1   13 Apr, 2021          0\n",
      "2   14 Apr, 2021          0\n",
      "3   14 Apr, 2021          0\n",
      "4   15 Apr, 2021          0\n",
      "5   15 Apr, 2021          0\n",
      "6   16 Apr, 2021          0\n",
      "7   16 Apr, 2021          0\n",
      "8   17 Apr, 2021          0\n",
      "9   17 Apr, 2021          0\n",
      "10  18 Apr, 2021          0\n",
      "11  18 Apr, 2021          0\n",
      "12  19 Apr, 2021          2\n",
      "13  19 Apr, 2021          0\n",
      "14  20 Apr, 2021          3\n",
      "15  20 Apr, 2021          4\n",
      "16  20 Apr, 2021          0\n",
      "17  21 Apr, 2021          2\n",
      "18  21 Apr, 2021          7\n",
      "19  21 Apr, 2021          0\n",
      "20  22 Apr, 2021          2\n",
      "21  22 Apr, 2021          0\n",
      "22  23 Apr, 2021          1\n",
      "23  23 Apr, 2021          4\n",
      "24  23 Apr, 2021          0\n",
      "25  24 Apr, 2021          1\n",
      "26  24 Apr, 2021          0\n",
      "27  24 Apr, 2021          0\n",
      "28  25 Apr, 2021          0\n",
      "29  25 Apr, 2021          0\n",
      "30  26 Apr, 2021          1\n",
      "31  26 Apr, 2021          0\n",
      "32  27 Apr, 2021          1\n",
      "33  27 Apr, 2021          3\n",
      "34  27 Apr, 2021          0\n"
     ]
    },
    {
     "data": {
      "text/html": [
       "<iframe\n",
       "    scrolling=\"no\"\n",
       "    width=\"100%\"\n",
       "    height=\"545px\"\n",
       "    src=\"iframe_figures/figure_22.html\"\n",
       "    frameborder=\"0\"\n",
       "    allowfullscreen\n",
       "></iframe>\n"
      ]
     },
     "metadata": {},
     "output_type": "display_data"
    }
   ],
   "source": [
    "dt = start_date.value\n",
    "ds = end_date.value\n",
    "\n",
    "data = []\n",
    "column_headers = []\n",
    "file_name = \"\"\n",
    "bar_counter = 0\n",
    "\n",
    "if update_interval.value == \"Daily\":\n",
    "    bar_counter = progress_bar_counter(dt, ds, \"Daily\")\n",
    "    start = end = dt\n",
    "    column_headers = ['Day', 'Frequency']\n",
    "    file_name = \"daily\"\n",
    "if update_interval.value == \"Weekly\":\n",
    "    bar_counter = progress_bar_counter(dt, ds, \"Weekly\")    \n",
    "    start = dt - timedelta(days=dt.weekday())\n",
    "    end = start + timedelta(days=6)\n",
    "    column_headers = ['Week', 'Frequency']\n",
    "    file_name = \"weekly\"\n",
    "if update_interval.value == \"Monthly\":\n",
    "    bar_counter = progress_bar_counter(dt, ds, \"Monthly\")\n",
    "    start = end = dt\n",
    "    column_headers = ['Month', 'Frequency']\n",
    "    file_name = \"monthly\"\n",
    "    \n",
    "for i in trange(bar_counter):\n",
    "    if start <= ds:\n",
    "        query = {\n",
    "            'reportRequests': [\n",
    "            {\n",
    "                'viewId': VIEW_ID,\n",
    "                'dateRanges': [{'startDate': start.strftime('%Y-%m-%d'), 'endDate': end.strftime('%Y-%m-%d')}],\n",
    "                'metrics': [{'expression': 'ga:totalEvents'}],\n",
    "                'dimensions': [{'name': 'ga:eventAction'}]\n",
    "            }]\n",
    "        }\n",
    "        cell_data_date = \"\"\n",
    "        if update_interval.value == \"Daily\":\n",
    "            cell_data_date = start.strftime(\"%d %b, %Y\")     \n",
    "        if update_interval.value == \"Weekly\":\n",
    "            cell_data_date = start.strftime(\"%d %b, %Y\") + \" - \" + end.strftime(\"%d %b, %Y\")    \n",
    "        if update_interval.value == \"Monthly\":\n",
    "            cell_data_date = start.strftime(\"%b %Y\")\n",
    "        \n",
    "        response = response_rows = []\n",
    "        response = get_report(analytics, query)\n",
    "        if \"rows\" in response[\"reports\"][0][\"data\"]:\n",
    "            response_rows = response[\"reports\"][0][\"data\"][\"rows\"]\n",
    "        else:\n",
    "            response_rows = []\n",
    "            cell_data = [cell_data_date, 0]\n",
    "            data.append(cell_data)\n",
    "        \n",
    "        if response_rows != []:\n",
    "            response_present = False\n",
    "            for res in response_rows:\n",
    "                if res[\"dimensions\"][0] == feature.value:\n",
    "                    cell_data = [cell_data_date, int(res[\"metrics\"][0][\"values\"][0])]\n",
    "                    data.append(cell_data)\n",
    "                    response_present = True\n",
    "            if response_present == False:\n",
    "                cell_data = [cell_data_date, 0]\n",
    "                data.append(cell_data)\n",
    "        \n",
    "        start, end = next_date_interval(start, end, update_interval.value)\n",
    "        \n",
    "folder_path = os.path.join(\"result_csv\", \"graph_data\")\n",
    "Path(folder_path).mkdir(parents=True, exist_ok=True)\n",
    "\n",
    "df = pd.DataFrame(data, columns = column_headers)\n",
    "result_path = os.path.join(folder_path, file_name + \"_graph-\" + dt.strftime(\"%d %b, %Y\") + \" - \" + ds.strftime(\"%d %b, %Y\") + \".csv\")\n",
    "df.to_csv(result_path, encoding='utf-8', index=False)\n",
    "\n",
    "# action_column = df.iloc[:, 0]\n",
    "# frequency_column = df.iloc[:, 1]\n",
    "# x_markers = pd.Series(action_column).array\n",
    "# y_markers = pd.Series(frequency_column).array\n",
    "# y_markers = y_markers.astype(int)\n",
    "df.astype({'Frequency': 'int32'}).dtypes\n",
    "\n",
    "fig = None\n",
    "\n",
    "if update_interval.value == \"Daily\":\n",
    "    fig = px.line(\n",
    "        df, \n",
    "        x = \"Day\", \n",
    "        y = \"Frequency\",\n",
    "        labels = {\n",
    "            \"Day\": \"Date\",\n",
    "            \"Frequency\": \"Frequency\",\n",
    "        },\n",
    "        title = update_interval.value + \" Chart for '\" + feature.value + \"': \" + dt.strftime(\"%d %b, %Y\") + \" - \" + ds.strftime(\"%d %b, %Y\"),\n",
    "        render_mode = \"auto\"\n",
    "    )\n",
    "if update_interval.value == \"Weekly\":\n",
    "    fig = px.line(\n",
    "        df, \n",
    "        x = \"Week\", \n",
    "        y = \"Frequency\",\n",
    "        labels = {\n",
    "            \"Day\": \"Date\",\n",
    "            \"Frequency\": \"Frequency\",\n",
    "        },\n",
    "        title = update_interval.value + \" Chart for '\" + feature.value + \"': \" + dt.strftime(\"%d %b, %Y\") + \" - \" + ds.strftime(\"%d %b, %Y\"),\n",
    "        render_mode = \"auto\"\n",
    "    )\n",
    "if update_interval.value == \"Monthly\":\n",
    "    fig = px.line(\n",
    "        df, \n",
    "        x = \"Month\", \n",
    "        y = \"Frequency\",\n",
    "        labels = {\n",
    "            \"Day\": \"Date\",\n",
    "            \"Frequency\": \"Frequency\",\n",
    "        },\n",
    "        title = update_interval.value + \" Chart for '\" + feature.value + \"': \" + dt.strftime(\"%d %b, %Y\") + \" - \" + ds.strftime(\"%d %b, %Y\"),\n",
    "        render_mode = \"auto\"\n",
    "    )\n",
    "\n",
    "fig.show()\n"
   ]
  },
  {
   "cell_type": "markdown",
   "metadata": {},
   "source": [
    "# --------------------------------------------------------------------------------------------------"
   ]
  },
  {
   "cell_type": "code",
   "execution_count": null,
   "metadata": {},
   "outputs": [],
   "source": []
  },
  {
   "cell_type": "code",
   "execution_count": null,
   "metadata": {},
   "outputs": [],
   "source": []
  },
  {
   "cell_type": "code",
   "execution_count": null,
   "metadata": {},
   "outputs": [],
   "source": []
  },
  {
   "cell_type": "code",
   "execution_count": null,
   "metadata": {},
   "outputs": [],
   "source": []
  },
  {
   "cell_type": "code",
   "execution_count": null,
   "metadata": {},
   "outputs": [],
   "source": []
  },
  {
   "cell_type": "code",
   "execution_count": null,
   "metadata": {},
   "outputs": [],
   "source": []
  },
  {
   "cell_type": "code",
   "execution_count": 8,
   "metadata": {},
   "outputs": [],
   "source": [
    "# Date format in 'YYYY-MM-DD'\n",
    "# You can also use relative dates for simplicity\n",
    "# start_date = \"50daysAgo\"\n",
    "# end_date = \"today\"\n",
    "# end_date = \"yesterday\"\n",
    "start_date = \"2021-01-23\"\n",
    "end_date = \"2021-04-23\""
   ]
  },
  {
   "cell_type": "markdown",
   "metadata": {},
   "source": [
    "### Get a report of all the events that occured with a status of either \"success\" or \"error\" within a given time frame"
   ]
  },
  {
   "cell_type": "code",
   "execution_count": 10,
   "metadata": {},
   "outputs": [],
   "source": [
    "query = {\n",
    "    'reportRequests': [\n",
    "    {\n",
    "        'viewId': VIEW_ID,\n",
    "        'dateRanges': [{'startDate': start_date, 'endDate': end_date}],\n",
    "        'metrics': [{'expression': 'ga:totalEvents'}],\n",
    "        'dimensions': [{'name': 'ga:eventCategory'}, {'name': 'ga:eventAction'}]\n",
    "    }]\n",
    "}\n",
    "\n",
    "response = get_report(analytics, query)\n",
    "response_rows = response[\"reports\"][0][\"data\"][\"rows\"]\n",
    "both_data, success_data, error_data = [], [], []\n",
    "\n",
    "for res in response_rows:\n",
    "    both_cell_data = [res[\"dimensions\"][0], res[\"dimensions\"][1], res[\"metrics\"][0][\"values\"][0]]\n",
    "    both_data.append(both_cell_data)\n",
    "    if res[\"dimensions\"][0] == \"Success\":\n",
    "        success_cell_data = [res[\"dimensions\"][1], res[\"metrics\"][0][\"values\"][0]]\n",
    "        success_data.append(success_cell_data)\n",
    "    if res[\"dimensions\"][0] == \"Error\":\n",
    "        error_cell_data = [res[\"dimensions\"][1], res[\"metrics\"][0][\"values\"][0]]\n",
    "        error_data.append(error_cell_data)\n",
    "\n",
    "folder_path = os.path.join(\"result_csv\", \"status_count\")\n",
    "Path(folder_path).mkdir(parents=True, exist_ok=True)\n",
    "        \n",
    "df = pd.DataFrame(both_data, columns = ['Status', 'Action', 'Values'])\n",
    "result_path = os.path.join(folder_path, \"Both-\" + start_date + \"_\" + end_date + \".csv\")\n",
    "df.to_csv(result_path, encoding='utf-8', index=False)\n",
    "\n",
    "df = pd.DataFrame(success_data, columns = ['Action', 'Values'])\n",
    "result_path = os.path.join(folder_path, \"Success-\" + start_date + \"_\" + end_date + \".csv\")\n",
    "df.to_csv(result_path, encoding='utf-8', index=False)\n",
    "\n",
    "df = pd.DataFrame(error_data, columns = ['Action', 'Values'])\n",
    "result_path = os.path.join(folder_path, \"Error-\" + start_date + \"_\" + end_date + \".csv\")\n",
    "df.to_csv(result_path, encoding='utf-8', index=False)"
   ]
  },
  {
   "cell_type": "markdown",
   "metadata": {},
   "source": [
    "### Get a report of all app launches within a given time frame"
   ]
  },
  {
   "cell_type": "code",
   "execution_count": 11,
   "metadata": {},
   "outputs": [],
   "source": [
    "query = {\n",
    "    'reportRequests': [\n",
    "    {\n",
    "        'viewId': VIEW_ID,\n",
    "        'dateRanges': [{'startDate': start_date, 'endDate': end_date}],\n",
    "        'metrics': [{'expression': 'ga:totalEvents'}],\n",
    "        'dimensions': [{'name': 'ga:eventAction'}, {'name': 'ga:eventLabel'}]\n",
    "    }]\n",
    "}\n",
    "\n",
    "response = get_report(analytics, query)\n",
    "response_rows = response[\"reports\"][0][\"data\"][\"rows\"]\n",
    "app_launch_os, app_launch_soda = [], []\n",
    "\n",
    "for res in response_rows:\n",
    "    if res[\"dimensions\"][0] == \"App Launched - OS\":\n",
    "        app_launch_os_cell_data = [res[\"dimensions\"][1], res[\"metrics\"][0][\"values\"][0]]\n",
    "        app_launch_os.append(app_launch_os_cell_data)\n",
    "    if res[\"dimensions\"][0] == \"App Launched - SODA\":\n",
    "        app_launch_soda_cell_data = [res[\"dimensions\"][1], res[\"metrics\"][0][\"values\"][0]]\n",
    "        app_launch_soda.append(app_launch_soda_cell_data)\n",
    "\n",
    "folder_path = os.path.join(\"result_csv\", \"app_launched\")\n",
    "Path(folder_path).mkdir(parents=True, exist_ok=True)\n",
    "        \n",
    "df = pd.DataFrame(app_launch_os, columns = ['OS', 'Values'])\n",
    "result_path = os.path.join(folder_path, \"os-\" + start_date + \"_\" + end_date + \".csv\")\n",
    "df.to_csv(result_path, encoding='utf-8', index=False)\n",
    "\n",
    "df = pd.DataFrame(app_launch_soda, columns = ['SODA Version', 'Values'])\n",
    "result_path = os.path.join(folder_path, \"soda_version-\" + start_date + \"_\" + end_date + \".csv\")\n",
    "df.to_csv(result_path, encoding='utf-8', index=False)"
   ]
  },
  {
   "cell_type": "markdown",
   "metadata": {},
   "source": [
    "### Get a report of all unique users within a given time frame"
   ]
  },
  {
   "cell_type": "code",
   "execution_count": 12,
   "metadata": {},
   "outputs": [],
   "source": [
    "query = {\n",
    "    'reportRequests': [\n",
    "    {\n",
    "        'viewId': VIEW_ID,\n",
    "        'dateRanges': [{'startDate': start_date, 'endDate': end_date}],\n",
    "        'metrics': [{'expression': 'ga:users'}],\n",
    "        'dimensions': [{'name': 'ga:userType'}]\n",
    "    }]\n",
    "}\n",
    "\n",
    "response = get_report(analytics, query)\n",
    "response_rows = response[\"reports\"][0][\"data\"][\"rows\"]\n",
    "data = []\n",
    "\n",
    "for res in response_rows:\n",
    "    cell_data = [res[\"dimensions\"][0], res[\"metrics\"][0][\"values\"][0]]\n",
    "    data.append(cell_data)\n",
    "    \n",
    "folder_path = os.path.join(\"result_csv\", \"users\")\n",
    "Path(folder_path).mkdir(parents=True, exist_ok=True)\n",
    "        \n",
    "df = pd.DataFrame(data, columns = ['Type', 'Values'])\n",
    "result_path = os.path.join(folder_path, \"users-\" + start_date + \"_\" + end_date + \".csv\")\n",
    "df.to_csv(result_path, encoding='utf-8', index=False)"
   ]
  },
  {
   "cell_type": "markdown",
   "metadata": {},
   "source": [
    "### Get a report of all dataset names for a specific action for a given time frame"
   ]
  },
  {
   "cell_type": "code",
   "execution_count": 13,
   "metadata": {},
   "outputs": [],
   "source": [
    "def number_of_actions(start_date, end_date, category, action):\n",
    "    query = {\n",
    "        'reportRequests': [\n",
    "        {\n",
    "            'viewId': VIEW_ID,\n",
    "            'dateRanges': [{'startDate': start_date, 'endDate': end_date}],\n",
    "            'metrics': [{'expression': 'ga:totalEvents'}],\n",
    "            'dimensions': [{'name': 'ga:eventCategory'}, {'name': 'ga:eventAction'}, {'name': 'ga:eventLabel'}]\n",
    "        }]\n",
    "    }\n",
    "    response = get_report(analytics, query)\n",
    "    response_rows = response[\"reports\"][0][\"data\"][\"rows\"]\n",
    "    data = []\n",
    "\n",
    "    for res in response_rows:\n",
    "        if res[\"dimensions\"][0] == category:\n",
    "            if res[\"dimensions\"][1] == action:\n",
    "                cell_data = [res[\"dimensions\"][2], res[\"metrics\"][0][\"values\"][0]]\n",
    "                data.append(cell_data)\n",
    "        \n",
    "    folder_path = os.path.join(\"result_csv\", \"custom\")\n",
    "    Path(folder_path).mkdir(parents=True, exist_ok=True)\n",
    "\n",
    "    df = pd.DataFrame(data, columns = ['Dataset_name', 'Values'])\n",
    "    result_path = os.path.join(folder_path, action + \"-\" + start_date + \"_\" + end_date + \".csv\")\n",
    "    df.to_csv(result_path, encoding='utf-8', index=False)\n",
    "    return\n",
    "\n",
    "## useful for getting the names of datasets where an action is applicable\n",
    "## all responses go to the custom folder\n",
    "# number_of_actions(start_date, end_date, <type>, <action_name>)\n",
    "number_of_actions(start_date, end_date, \"Success\", \"Manage Dataset - Create Empty Dataset\")"
   ]
  },
  {
   "cell_type": "markdown",
   "metadata": {},
   "source": [
    "### Get a report of all actions done on a specific dataset for a given time frame"
   ]
  },
  {
   "cell_type": "code",
   "execution_count": 14,
   "metadata": {},
   "outputs": [],
   "source": [
    "def dataset_actions(start_date, end_date, dataset_name):\n",
    "    query = {\n",
    "        'reportRequests': [\n",
    "        {\n",
    "            'viewId': VIEW_ID,\n",
    "            'dateRanges': [{'startDate': start_date, 'endDate': end_date}],\n",
    "            'metrics': [{'expression': 'ga:totalEvents'}],\n",
    "            'dimensions': [{'name': 'ga:eventCategory'}, {'name': 'ga:eventAction'}, {'name': 'ga:eventLabel'}]\n",
    "        }]\n",
    "    }\n",
    "    response = get_report(analytics, query)\n",
    "    response_rows = response[\"reports\"][0][\"data\"][\"rows\"]\n",
    "    data = []\n",
    "\n",
    "    for res in response_rows:\n",
    "        if res[\"dimensions\"][2].find(dataset_name) != -1 or res[\"dimensions\"][1].find(dataset_name) != -1:\n",
    "            cell_data = [res[\"dimensions\"][0], res[\"dimensions\"][1], res[\"metrics\"][0][\"values\"][0]]\n",
    "            data.append(cell_data)\n",
    "        \n",
    "    folder_path = os.path.join(\"result_csv\", \"custom\")\n",
    "    Path(folder_path).mkdir(parents=True, exist_ok=True)\n",
    "\n",
    "    df = pd.DataFrame(data, columns = ['Status', 'Action', 'Values'])\n",
    "    result_path = os.path.join(folder_path, dataset_name + \"(actions)-\" + start_date + \"_\" + end_date + \".csv\")\n",
    "    df.to_csv(result_path, encoding='utf-8', index=False)\n",
    "    return\n",
    "\n",
    "## useful for getting all the actions for a specific dataset\n",
    "## all responses go to the custom folder\n",
    "# dataset_actions(start_date, end_date, <Dataset_name>)\n",
    "dataset_actions(start_date, end_date, \"test-ps-SODA\")"
   ]
  },
  {
   "cell_type": "markdown",
   "metadata": {},
   "source": [
    "### Get the number of files and the size of all datasets that was uploaded through SODA for a given time frame"
   ]
  },
  {
   "cell_type": "code",
   "execution_count": 15,
   "metadata": {},
   "outputs": [],
   "source": [
    "def dataset_statistics(start_date, end_date):\n",
    "            \n",
    "    query = {\n",
    "        'reportRequests': [\n",
    "        {\n",
    "            'viewId': VIEW_ID,\n",
    "            'dateRanges': [{'startDate': start_date, 'endDate': end_date}],\n",
    "            'metrics': [{'expression': 'ga:uniqueEvents'}],\n",
    "            'dimensions': [{'name': 'ga:eventCategory'}, {'name': 'ga:eventAction'}, {'name': 'ga:eventLabel'}]\n",
    "        }]\n",
    "    }\n",
    "    response = get_report(analytics, query)\n",
    "    response_rows = response[\"reports\"][0][\"data\"][\"rows\"]\n",
    "    \n",
    "    for res in response_rows:\n",
    "#         print(res)\n",
    "        if res[\"dimensions\"][1] == \"Upload Local Dataset - Number of Files\":\n",
    "            cell_data = [res[\"dimensions\"][0], res[\"dimensions\"][2], 0]\n",
    "            data.append(cell_data)\n",
    "        if res[\"dimensions\"][1] == \"Upload Local Dataset - size\":\n",
    "            cell_data = [res[\"dimensions\"][0], 0, res[\"dimensions\"][2]]\n",
    "            data.append(cell_data)\n",
    "        if res[\"dimensions\"][1] == \"Generate Dataset - Number of Files\":\n",
    "            cell_data = [res[\"dimensions\"][0], res[\"dimensions\"][2], 0]\n",
    "            data.append(cell_data)\n",
    "        if res[\"dimensions\"][1] == \"Generate Dataset - Size\":\n",
    "            cell_data = [res[\"dimensions\"][0], 0, res[\"dimensions\"][2]]\n",
    "            data.append(cell_data)\n",
    "        \n",
    "    folder_path = os.path.join(\"result_csv\", \"custom\")\n",
    "    Path(folder_path).mkdir(parents=True, exist_ok=True)\n",
    "\n",
    "    df = pd.DataFrame(data, columns = ['Status', 'Number of Files', 'Size in (bytes)'])\n",
    "    result_path = os.path.join(folder_path, \"dataset_statistics-\" + start_date + \"_\" + end_date + \".csv\")\n",
    "    df.to_csv(result_path, encoding='utf-8', index=False)\n",
    "    return\n",
    "\n",
    "## useful for getting all details for upload to Pennsieve for a specific time period\n",
    "## all responses go to the custom folder\n",
    "# num_of_files_folders_in_dataset(start_date, end_date)\n",
    "dataset_statistics(start_date, end_date)"
   ]
  },
  {
   "cell_type": "markdown",
   "metadata": {},
   "source": [
    "### Get the number of files and the size of a specific dataset that was uploaded through SODA"
   ]
  },
  {
   "cell_type": "code",
   "execution_count": 16,
   "metadata": {},
   "outputs": [],
   "source": [
    "def num_of_files_folders_in_dataset(start_date, end_date, dataset_name):\n",
    "    query = {\n",
    "        'reportRequests': [\n",
    "        {\n",
    "            'viewId': VIEW_ID,\n",
    "            'dateRanges': [{'startDate': start_date, 'endDate': end_date}],\n",
    "            'metrics': [{'expression': 'ga:totalEvents'}],\n",
    "            'dimensions': [{'name': 'ga:eventCategory'}, {'name': 'ga:eventAction'}, {'name': 'ga:eventLabel'}]\n",
    "        }]\n",
    "    }\n",
    "    response = get_report(analytics, query)\n",
    "    response_rows = response[\"reports\"][0][\"data\"][\"rows\"]\n",
    "    data = []\n",
    "    \n",
    "    for res in response_rows:\n",
    "        if res[\"dimensions\"][1].find(\"Upload Local Dataset\") != -1:\n",
    "            if res[\"dimensions\"][1].find(dataset_name) != -1:\n",
    "                if res[\"dimensions\"][1].find('Number of Files') != -1:\n",
    "                    cell_data = [res[\"dimensions\"][0], res[\"dimensions\"][2], 0]\n",
    "                    data.append(cell_data)\n",
    "                if res[\"dimensions\"][1].find('- size') != -1:\n",
    "                    cell_data = [res[\"dimensions\"][0], 0, res[\"dimensions\"][2]]\n",
    "                    data.append(cell_data)\n",
    "            \n",
    "    query = {\n",
    "        'reportRequests': [\n",
    "        {\n",
    "            'viewId': VIEW_ID,\n",
    "            'dateRanges': [{'startDate': start_date, 'endDate': end_date}],\n",
    "            'metrics': [{'expression': 'ga:eventValue'}],\n",
    "            'dimensions': [{'name': 'ga:eventCategory'}, {'name': 'ga:eventAction'}, {'name': 'ga:eventLabel'}]\n",
    "        }]\n",
    "    }\n",
    "    response = get_report(analytics, query)\n",
    "    response_rows = response[\"reports\"][0][\"data\"][\"rows\"]\n",
    "    res[\"metrics\"][0][\"values\"][0]\n",
    "    for res in response_rows:\n",
    "        if res[\"dimensions\"][1].find(\"Generate Dataset\") != -1:\n",
    "            if res[\"dimensions\"][2].find(dataset_name) != -1:\n",
    "                if res[\"dimensions\"][1] == 'Generate Dataset - Number of Files':\n",
    "                    cell_data = [res[\"dimensions\"][0], res[\"metrics\"][0][\"values\"][0], 0]\n",
    "                    data.append(cell_data)\n",
    "                if res[\"dimensions\"][1] == 'Generate Dataset - Size':\n",
    "                    cell_data = [res[\"dimensions\"][0], 0, res[\"metrics\"][0][\"values\"][0]]\n",
    "                    data.append(cell_data)\n",
    "                \n",
    "                    \n",
    "    folder_path = os.path.join(\"result_csv\", \"custom\")\n",
    "    Path(folder_path).mkdir(parents=True, exist_ok=True)\n",
    "\n",
    "    df = pd.DataFrame(data, columns = ['Status', 'Number of Files', 'Size in (bytes)'])\n",
    "    result_path = os.path.join(folder_path, dataset_name + \"(details)-\" + start_date + \"_\" + end_date + \".csv\")\n",
    "    df.to_csv(result_path, encoding='utf-8', index=False)\n",
    "    return\n",
    "\n",
    "## useful for getting all the number of files and size for a specific dataset\n",
    "## all responses go to the custom folder\n",
    "# num_of_files_folders_in_dataset(start_date, end_date, <Dataset_name>)\n",
    "num_of_files_folders_in_dataset(start_date, end_date, \"test-ps-SODA\")"
   ]
  },
  {
   "cell_type": "code",
   "execution_count": null,
   "metadata": {},
   "outputs": [],
   "source": []
  }
 ],
 "metadata": {
  "kernelspec": {
   "display_name": "Python 3",
   "language": "python",
   "name": "python3"
  },
  "language_info": {
   "codemirror_mode": {
    "name": "ipython",
    "version": 3
   },
   "file_extension": ".py",
   "mimetype": "text/x-python",
   "name": "python",
   "nbconvert_exporter": "python",
   "pygments_lexer": "ipython3",
   "version": "3.8.5"
  }
 },
 "nbformat": 4,
 "nbformat_minor": 5
}
