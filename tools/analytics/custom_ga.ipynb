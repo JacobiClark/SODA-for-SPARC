{
 "cells": [
  {
   "cell_type": "markdown",
   "id": "f4e2d7a4",
   "metadata": {},
   "source": [
    "# Pre-requisite installations if needed"
   ]
  },
  {
   "cell_type": "code",
   "execution_count": 8,
   "id": "4d421dae-3608-40db-9df4-c48aa37a165d",
   "metadata": {},
   "outputs": [
    {
     "ename": "SyntaxError",
     "evalue": "invalid syntax (<ipython-input-8-fc27e90ce6c5>, line 7)",
     "output_type": "error",
     "traceback": [
      "\u001b[1;36m  File \u001b[1;32m\"<ipython-input-8-fc27e90ce6c5>\"\u001b[1;36m, line \u001b[1;32m7\u001b[0m\n\u001b[1;33m    jupyter labextension install @jupyter-widgets/jupyterlab-manager\u001b[0m\n\u001b[1;37m                       ^\u001b[0m\n\u001b[1;31mSyntaxError\u001b[0m\u001b[1;31m:\u001b[0m invalid syntax\n"
     ]
    }
   ],
   "source": [
    "!pip install oauth2client\n",
    "!pip install google-api-python-client\n",
    "!pip install ipywidgets\n",
    "!pip install plotly\n",
    "!pip install tqdm\n"
   ]
  },
  {
   "cell_type": "markdown",
   "id": "b3b26829",
   "metadata": {},
   "source": [
    "# ------------"
   ]
  },
  {
   "cell_type": "code",
   "execution_count": 12,
   "id": "5589eb5d",
   "metadata": {},
   "outputs": [],
   "source": [
    "import argparse\n",
    "import pandas as pd\n",
    "import json\n",
    "import os\n",
    "import ipywidgets as widgets\n",
    "from pathlib import Path\n",
    "from datetime import datetime, timedelta\n",
    "from dateutil.relativedelta import relativedelta\n",
    "\n",
    "from tqdm.notebook import tqdm, trange\n",
    "import time\n",
    "\n",
    "import plotly\n",
    "import plotly.graph_objs as go\n",
    "\n",
    "from apiclient.discovery import build\n",
    "from oauth2client.service_account import ServiceAccountCredentials\n",
    "\n",
    "import httplib2\n",
    "from oauth2client import client\n",
    "from oauth2client import file\n",
    "from oauth2client import tools\n",
    "from helper_functions import initialize_analyticsreporting, get_report, print_response, VIEW_ID\n",
    "\n",
    "analytics = initialize_analyticsreporting()\n",
    "# from plotly.graph_objs import Scatter, Layout\n",
    "\n",
    "# plotly.offline.plot({\n",
    "#     \"data\": [Scatter(x=[1, 2, 3, 4], y=[4, 3, 2, 1])],\n",
    "#     \"layout\": Layout(title=\"hello world\")\n",
    "# })"
   ]
  },
  {
   "cell_type": "code",
   "execution_count": 13,
   "id": "a4aabd9a-68a5-4c90-97d1-d8638b04a490",
   "metadata": {},
   "outputs": [
    {
     "data": {
      "application/vnd.jupyter.widget-view+json": {
       "model_id": "e620c0ff91cd42f1a84b38ce03c153ca",
       "version_major": 2,
       "version_minor": 0
      },
      "text/plain": [
       "  0%|          | 0/100 [00:00<?, ?it/s]"
      ]
     },
     "metadata": {},
     "output_type": "display_data"
    }
   ],
   "source": [
    "for i in trange(100):\n",
    "    time.sleep(0.01)"
   ]
  },
  {
   "cell_type": "code",
   "execution_count": 2,
   "id": "44be49e4",
   "metadata": {},
   "outputs": [
    {
     "data": {
      "application/vnd.jupyter.widget-view+json": {
       "model_id": "591fff88b7ab4660925aab1eced833d2",
       "version_major": 2,
       "version_minor": 0
      },
      "text/plain": [
       "Dropdown(description='Option:', options=('App Launched - OS', '2', '3'), value='App Launched - OS')"
      ]
     },
     "metadata": {},
     "output_type": "display_data"
    },
    {
     "data": {
      "application/vnd.jupyter.widget-view+json": {
       "model_id": "0f97f85307c140859946e4c708c74bdd",
       "version_major": 2,
       "version_minor": 0
      },
      "text/plain": [
       "DatePicker(value=None, description='Start Date:')"
      ]
     },
     "metadata": {},
     "output_type": "display_data"
    },
    {
     "data": {
      "application/vnd.jupyter.widget-view+json": {
       "model_id": "cd1613c9de754a09a66512738bb832fc",
       "version_major": 2,
       "version_minor": 0
      },
      "text/plain": [
       "DatePicker(value=None, description='End Date:')"
      ]
     },
     "metadata": {},
     "output_type": "display_data"
    },
    {
     "data": {
      "application/vnd.jupyter.widget-view+json": {
       "model_id": "01ab516083c54606bc390059232d5d0a",
       "version_major": 2,
       "version_minor": 0
      },
      "text/plain": [
       "Dropdown(description='Update Interval:', options=('Daily', 'Weekly', 'Monthly', 'Yearly'), value='Daily')"
      ]
     },
     "metadata": {},
     "output_type": "display_data"
    }
   ],
   "source": [
    "feature = widgets.Dropdown(\n",
    "    options=['App Launched - OS', '2', '3'],\n",
    "    value='App Launched - OS',\n",
    "    description='Option:',\n",
    "    disabled=False,\n",
    ")\n",
    "\n",
    "start_date = widgets.DatePicker(description='Start Date:', disabled=False)\n",
    "end_date = widgets.DatePicker(description='End Date:', disabled=False)\n",
    "\n",
    "update_interval = widgets.Dropdown(options=['Daily', 'Weekly', 'Monthly', 'Yearly'], description='Update Interval:', disabled=False)\n",
    "\n",
    "display(feature, start_date, end_date, update_interval)"
   ]
  },
  {
   "cell_type": "code",
   "execution_count": 16,
   "id": "76927f68-43f2-4eec-8343-f324db022908",
   "metadata": {},
   "outputs": [
    {
     "data": {
      "application/vnd.jupyter.widget-view+json": {
       "model_id": "ba33cabea8e048a494fbcc446ac07b2c",
       "version_major": 2,
       "version_minor": 0
      },
      "text/plain": [
       "  0%|          | 0/29 [00:00<?, ?it/s]"
      ]
     },
     "metadata": {},
     "output_type": "display_data"
    }
   ],
   "source": [
    "if update_interval.value == \"Daily\":\n",
    "    dt = start_date.value\n",
    "    ds = end_date.value\n",
    "    start = dt\n",
    "    end = start\n",
    "    \n",
    "    data = []\n",
    "       \n",
    "    for i in trange((ds - dt).days):\n",
    "        if start <= ds:\n",
    "            query = {\n",
    "                'reportRequests': [\n",
    "                {\n",
    "                    'viewId': VIEW_ID,\n",
    "                    'dateRanges': [{'startDate': start.strftime('%Y-%m-%d'), 'endDate': end.strftime('%Y-%m-%d')}],\n",
    "                    'metrics': [{'expression': 'ga:totalEvents'}],\n",
    "                    'dimensions': [{'name': 'ga:eventAction'}]\n",
    "                }]\n",
    "            }\n",
    "            response = get_report(analytics, query)\n",
    "            if \"rows\" in response[\"reports\"][0][\"data\"]:\n",
    "                response_rows = response[\"reports\"][0][\"data\"][\"rows\"]\n",
    "            else:\n",
    "                response_rows = []\n",
    "                cell_data = [ start.strftime(\"%d %b, %Y\") , 0]\n",
    "                data.append(cell_data)\n",
    "\n",
    "            for res in response_rows:\n",
    "                if res[\"dimensions\"][0] == feature.value:\n",
    "                    if response_rows != []:\n",
    "                        cell_data = [ start.strftime(\"%d %b, %Y\"), res[\"metrics\"][0][\"values\"][0]]\n",
    "                        data.append(cell_data)\n",
    "                    else:\n",
    "                        cell_data = [ start.strftime(\"%d %b, %Y\") , 0]\n",
    "                        data.append(cell_data)\n",
    "                    \n",
    "            start = start + timedelta(days=1)\n",
    "            end = start \n",
    "    \n",
    "    folder_path = os.path.join(\"result_csv\", \"graph_data\")\n",
    "    Path(folder_path).mkdir(parents=True, exist_ok=True)\n",
    "\n",
    "    df = pd.DataFrame(data, columns = ['Date Interval', 'Frequency'])\n",
    "    result_path = os.path.join(folder_path, \"daily_graph-\" + dt.strftime(\"%d %b, %Y\") + \"-\" + ds.strftime(\"%d %b, %Y\") + \".csv\")\n",
    "    df.to_csv(result_path, encoding='utf-8', index=False)\n",
    "    \n",
    "    action_column = df.iloc[:, 0]\n",
    "    frequency_column = df.iloc[:, 1]\n",
    "    x_markers = pd.Series(action_column).array\n",
    "    y_markers = pd.Series(frequency_column).array\n",
    "    y_markers = y_markers.astype(int)\n",
    "    \n",
    "    print(x_markers, y_markers)\n",
    "    trace0 = go.Scatter(\n",
    "        x = x_markers,\n",
    "        y = y_markers\n",
    "    )\n",
    "    \n",
    "    plotly.offline.plot([trace0])\n"
   ]
  },
  {
   "cell_type": "code",
   "execution_count": 8,
   "id": "f183fe6b",
   "metadata": {},
   "outputs": [
    {
     "name": "stdout",
     "output_type": "stream",
     "text": [
      "2021-04-19 2021-04-25\n",
      "2021-04-26 2021-05-02\n",
      "2021-05-03 2021-05-09\n",
      "2021-05-10 2021-05-16\n",
      "2021-05-17 2021-05-23\n",
      "2021-05-24 2021-05-30\n",
      "2021-05-31 2021-06-06\n",
      "2021-06-07 2021-06-13\n",
      "2021-06-14 2021-06-20\n",
      "2021-06-21 2021-06-27\n"
     ]
    }
   ],
   "source": [
    "dt = start_date.value\n",
    "ds = end_date.value\n",
    "start = dt - timedelta(days=dt.weekday())\n",
    "end = start + timedelta(days=6)\n",
    "while start <= ds:\n",
    "    print(start, end)\n",
    "    start = start + timedelta(days=7)\n",
    "    end = start + timedelta(days=6)"
   ]
  },
  {
   "cell_type": "code",
   "execution_count": null,
   "id": "823e90d7",
   "metadata": {},
   "outputs": [],
   "source": []
  },
  {
   "cell_type": "code",
   "execution_count": null,
   "id": "8762dc6a",
   "metadata": {},
   "outputs": [],
   "source": []
  },
  {
   "cell_type": "code",
   "execution_count": null,
   "id": "67849a1a",
   "metadata": {},
   "outputs": [],
   "source": []
  },
  {
   "cell_type": "code",
   "execution_count": null,
   "id": "10487c7e",
   "metadata": {},
   "outputs": [],
   "source": []
  },
  {
   "cell_type": "code",
   "execution_count": null,
   "id": "982500d2",
   "metadata": {},
   "outputs": [],
   "source": []
  },
  {
   "cell_type": "code",
   "execution_count": null,
   "id": "d9b3c2c3",
   "metadata": {},
   "outputs": [],
   "source": []
  },
  {
   "cell_type": "code",
   "execution_count": null,
   "id": "a4737efc",
   "metadata": {},
   "outputs": [],
   "source": []
  },
  {
   "cell_type": "code",
   "execution_count": 8,
   "id": "714105f3",
   "metadata": {},
   "outputs": [],
   "source": [
    "# Date format in 'YYYY-MM-DD'\n",
    "# You can also use relative dates for simplicity\n",
    "# start_date = \"50daysAgo\"\n",
    "# end_date = \"today\"\n",
    "# end_date = \"yesterday\"\n",
    "start_date = \"2021-01-23\"\n",
    "end_date = \"2021-04-23\""
   ]
  },
  {
   "cell_type": "markdown",
   "id": "d3733440",
   "metadata": {},
   "source": [
    "### Get a report of all the events that occured with a status of either \"success\" or \"error\" within a given time frame"
   ]
  },
  {
   "cell_type": "code",
   "execution_count": 10,
   "id": "a30ebc7a",
   "metadata": {},
   "outputs": [],
   "source": [
    "query = {\n",
    "    'reportRequests': [\n",
    "    {\n",
    "        'viewId': VIEW_ID,\n",
    "        'dateRanges': [{'startDate': start_date, 'endDate': end_date}],\n",
    "        'metrics': [{'expression': 'ga:totalEvents'}],\n",
    "        'dimensions': [{'name': 'ga:eventCategory'}, {'name': 'ga:eventAction'}]\n",
    "    }]\n",
    "}\n",
    "\n",
    "response = get_report(analytics, query)\n",
    "response_rows = response[\"reports\"][0][\"data\"][\"rows\"]\n",
    "both_data, success_data, error_data = [], [], []\n",
    "\n",
    "for res in response_rows:\n",
    "    both_cell_data = [res[\"dimensions\"][0], res[\"dimensions\"][1], res[\"metrics\"][0][\"values\"][0]]\n",
    "    both_data.append(both_cell_data)\n",
    "    if res[\"dimensions\"][0] == \"Success\":\n",
    "        success_cell_data = [res[\"dimensions\"][1], res[\"metrics\"][0][\"values\"][0]]\n",
    "        success_data.append(success_cell_data)\n",
    "    if res[\"dimensions\"][0] == \"Error\":\n",
    "        error_cell_data = [res[\"dimensions\"][1], res[\"metrics\"][0][\"values\"][0]]\n",
    "        error_data.append(error_cell_data)\n",
    "\n",
    "folder_path = os.path.join(\"result_csv\", \"status_count\")\n",
    "Path(folder_path).mkdir(parents=True, exist_ok=True)\n",
    "        \n",
    "df = pd.DataFrame(both_data, columns = ['Status', 'Action', 'Values'])\n",
    "result_path = os.path.join(folder_path, \"Both-\" + start_date + \"_\" + end_date + \".csv\")\n",
    "df.to_csv(result_path, encoding='utf-8', index=False)\n",
    "\n",
    "df = pd.DataFrame(success_data, columns = ['Action', 'Values'])\n",
    "result_path = os.path.join(folder_path, \"Success-\" + start_date + \"_\" + end_date + \".csv\")\n",
    "df.to_csv(result_path, encoding='utf-8', index=False)\n",
    "\n",
    "df = pd.DataFrame(error_data, columns = ['Action', 'Values'])\n",
    "result_path = os.path.join(folder_path, \"Error-\" + start_date + \"_\" + end_date + \".csv\")\n",
    "df.to_csv(result_path, encoding='utf-8', index=False)"
   ]
  },
  {
   "cell_type": "markdown",
   "id": "d5ac0527",
   "metadata": {},
   "source": [
    "### Get a report of all app launches within a given time frame"
   ]
  },
  {
   "cell_type": "code",
   "execution_count": 11,
   "id": "10a87b65",
   "metadata": {},
   "outputs": [],
   "source": [
    "query = {\n",
    "    'reportRequests': [\n",
    "    {\n",
    "        'viewId': VIEW_ID,\n",
    "        'dateRanges': [{'startDate': start_date, 'endDate': end_date}],\n",
    "        'metrics': [{'expression': 'ga:totalEvents'}],\n",
    "        'dimensions': [{'name': 'ga:eventAction'}, {'name': 'ga:eventLabel'}]\n",
    "    }]\n",
    "}\n",
    "\n",
    "response = get_report(analytics, query)\n",
    "response_rows = response[\"reports\"][0][\"data\"][\"rows\"]\n",
    "app_launch_os, app_launch_soda = [], []\n",
    "\n",
    "for res in response_rows:\n",
    "    if res[\"dimensions\"][0] == \"App Launched - OS\":\n",
    "        app_launch_os_cell_data = [res[\"dimensions\"][1], res[\"metrics\"][0][\"values\"][0]]\n",
    "        app_launch_os.append(app_launch_os_cell_data)\n",
    "    if res[\"dimensions\"][0] == \"App Launched - SODA\":\n",
    "        app_launch_soda_cell_data = [res[\"dimensions\"][1], res[\"metrics\"][0][\"values\"][0]]\n",
    "        app_launch_soda.append(app_launch_soda_cell_data)\n",
    "\n",
    "folder_path = os.path.join(\"result_csv\", \"app_launched\")\n",
    "Path(folder_path).mkdir(parents=True, exist_ok=True)\n",
    "        \n",
    "df = pd.DataFrame(app_launch_os, columns = ['OS', 'Values'])\n",
    "result_path = os.path.join(folder_path, \"os-\" + start_date + \"_\" + end_date + \".csv\")\n",
    "df.to_csv(result_path, encoding='utf-8', index=False)\n",
    "\n",
    "df = pd.DataFrame(app_launch_soda, columns = ['SODA Version', 'Values'])\n",
    "result_path = os.path.join(folder_path, \"soda_version-\" + start_date + \"_\" + end_date + \".csv\")\n",
    "df.to_csv(result_path, encoding='utf-8', index=False)"
   ]
  },
  {
   "cell_type": "markdown",
   "id": "ad8d198e",
   "metadata": {},
   "source": [
    "### Get a report of all unique users within a given time frame"
   ]
  },
  {
   "cell_type": "code",
   "execution_count": 12,
   "id": "a636b0a4",
   "metadata": {},
   "outputs": [],
   "source": [
    "query = {\n",
    "    'reportRequests': [\n",
    "    {\n",
    "        'viewId': VIEW_ID,\n",
    "        'dateRanges': [{'startDate': start_date, 'endDate': end_date}],\n",
    "        'metrics': [{'expression': 'ga:users'}],\n",
    "        'dimensions': [{'name': 'ga:userType'}]\n",
    "    }]\n",
    "}\n",
    "\n",
    "response = get_report(analytics, query)\n",
    "response_rows = response[\"reports\"][0][\"data\"][\"rows\"]\n",
    "data = []\n",
    "\n",
    "for res in response_rows:\n",
    "    cell_data = [res[\"dimensions\"][0], res[\"metrics\"][0][\"values\"][0]]\n",
    "    data.append(cell_data)\n",
    "    \n",
    "folder_path = os.path.join(\"result_csv\", \"users\")\n",
    "Path(folder_path).mkdir(parents=True, exist_ok=True)\n",
    "        \n",
    "df = pd.DataFrame(data, columns = ['Type', 'Values'])\n",
    "result_path = os.path.join(folder_path, \"users-\" + start_date + \"_\" + end_date + \".csv\")\n",
    "df.to_csv(result_path, encoding='utf-8', index=False)"
   ]
  },
  {
   "cell_type": "markdown",
   "id": "8e0ce78e",
   "metadata": {},
   "source": [
    "### Get a report of all dataset names for a specific action for a given time frame"
   ]
  },
  {
   "cell_type": "code",
   "execution_count": 13,
   "id": "2ce699af",
   "metadata": {},
   "outputs": [],
   "source": [
    "def number_of_actions(start_date, end_date, category, action):\n",
    "    query = {\n",
    "        'reportRequests': [\n",
    "        {\n",
    "            'viewId': VIEW_ID,\n",
    "            'dateRanges': [{'startDate': start_date, 'endDate': end_date}],\n",
    "            'metrics': [{'expression': 'ga:totalEvents'}],\n",
    "            'dimensions': [{'name': 'ga:eventCategory'}, {'name': 'ga:eventAction'}, {'name': 'ga:eventLabel'}]\n",
    "        }]\n",
    "    }\n",
    "    response = get_report(analytics, query)\n",
    "    response_rows = response[\"reports\"][0][\"data\"][\"rows\"]\n",
    "    data = []\n",
    "\n",
    "    for res in response_rows:\n",
    "        if res[\"dimensions\"][0] == category:\n",
    "            if res[\"dimensions\"][1] == action:\n",
    "                cell_data = [res[\"dimensions\"][2], res[\"metrics\"][0][\"values\"][0]]\n",
    "                data.append(cell_data)\n",
    "        \n",
    "    folder_path = os.path.join(\"result_csv\", \"custom\")\n",
    "    Path(folder_path).mkdir(parents=True, exist_ok=True)\n",
    "\n",
    "    df = pd.DataFrame(data, columns = ['Dataset_name', 'Values'])\n",
    "    result_path = os.path.join(folder_path, action + \"-\" + start_date + \"_\" + end_date + \".csv\")\n",
    "    df.to_csv(result_path, encoding='utf-8', index=False)\n",
    "    return\n",
    "\n",
    "## useful for getting the names of datasets where an action is applicable\n",
    "## all responses go to the custom folder\n",
    "# number_of_actions(start_date, end_date, <type>, <action_name>)\n",
    "number_of_actions(start_date, end_date, \"Success\", \"Manage Dataset - Create Empty Dataset\")"
   ]
  },
  {
   "cell_type": "markdown",
   "id": "dd29dbd7",
   "metadata": {},
   "source": [
    "### Get a report of all actions done on a specific dataset for a given time frame"
   ]
  },
  {
   "cell_type": "code",
   "execution_count": 14,
   "id": "9068bd1d",
   "metadata": {},
   "outputs": [],
   "source": [
    "def dataset_actions(start_date, end_date, dataset_name):\n",
    "    query = {\n",
    "        'reportRequests': [\n",
    "        {\n",
    "            'viewId': VIEW_ID,\n",
    "            'dateRanges': [{'startDate': start_date, 'endDate': end_date}],\n",
    "            'metrics': [{'expression': 'ga:totalEvents'}],\n",
    "            'dimensions': [{'name': 'ga:eventCategory'}, {'name': 'ga:eventAction'}, {'name': 'ga:eventLabel'}]\n",
    "        }]\n",
    "    }\n",
    "    response = get_report(analytics, query)\n",
    "    response_rows = response[\"reports\"][0][\"data\"][\"rows\"]\n",
    "    data = []\n",
    "\n",
    "    for res in response_rows:\n",
    "        if res[\"dimensions\"][2].find(dataset_name) != -1 or res[\"dimensions\"][1].find(dataset_name) != -1:\n",
    "            cell_data = [res[\"dimensions\"][0], res[\"dimensions\"][1], res[\"metrics\"][0][\"values\"][0]]\n",
    "            data.append(cell_data)\n",
    "        \n",
    "    folder_path = os.path.join(\"result_csv\", \"custom\")\n",
    "    Path(folder_path).mkdir(parents=True, exist_ok=True)\n",
    "\n",
    "    df = pd.DataFrame(data, columns = ['Status', 'Action', 'Values'])\n",
    "    result_path = os.path.join(folder_path, dataset_name + \"(actions)-\" + start_date + \"_\" + end_date + \".csv\")\n",
    "    df.to_csv(result_path, encoding='utf-8', index=False)\n",
    "    return\n",
    "\n",
    "## useful for getting all the actions for a specific dataset\n",
    "## all responses go to the custom folder\n",
    "# dataset_actions(start_date, end_date, <Dataset_name>)\n",
    "dataset_actions(start_date, end_date, \"test-ps-SODA\")"
   ]
  },
  {
   "cell_type": "markdown",
   "id": "98bede27",
   "metadata": {},
   "source": [
    "### Get the number of files and the size of all datasets that was uploaded through SODA for a given time frame"
   ]
  },
  {
   "cell_type": "code",
   "execution_count": 15,
   "id": "0b8bf3a6",
   "metadata": {},
   "outputs": [],
   "source": [
    "def dataset_statistics(start_date, end_date):\n",
    "            \n",
    "    query = {\n",
    "        'reportRequests': [\n",
    "        {\n",
    "            'viewId': VIEW_ID,\n",
    "            'dateRanges': [{'startDate': start_date, 'endDate': end_date}],\n",
    "            'metrics': [{'expression': 'ga:uniqueEvents'}],\n",
    "            'dimensions': [{'name': 'ga:eventCategory'}, {'name': 'ga:eventAction'}, {'name': 'ga:eventLabel'}]\n",
    "        }]\n",
    "    }\n",
    "    response = get_report(analytics, query)\n",
    "    response_rows = response[\"reports\"][0][\"data\"][\"rows\"]\n",
    "    \n",
    "    for res in response_rows:\n",
    "#         print(res)\n",
    "        if res[\"dimensions\"][1] == \"Upload Local Dataset - Number of Files\":\n",
    "            cell_data = [res[\"dimensions\"][0], res[\"dimensions\"][2], 0]\n",
    "            data.append(cell_data)\n",
    "        if res[\"dimensions\"][1] == \"Upload Local Dataset - size\":\n",
    "            cell_data = [res[\"dimensions\"][0], 0, res[\"dimensions\"][2]]\n",
    "            data.append(cell_data)\n",
    "        if res[\"dimensions\"][1] == \"Generate Dataset - Number of Files\":\n",
    "            cell_data = [res[\"dimensions\"][0], res[\"dimensions\"][2], 0]\n",
    "            data.append(cell_data)\n",
    "        if res[\"dimensions\"][1] == \"Generate Dataset - Size\":\n",
    "            cell_data = [res[\"dimensions\"][0], 0, res[\"dimensions\"][2]]\n",
    "            data.append(cell_data)\n",
    "        \n",
    "    folder_path = os.path.join(\"result_csv\", \"custom\")\n",
    "    Path(folder_path).mkdir(parents=True, exist_ok=True)\n",
    "\n",
    "    df = pd.DataFrame(data, columns = ['Status', 'Number of Files', 'Size in (bytes)'])\n",
    "    result_path = os.path.join(folder_path, \"dataset_statistics-\" + start_date + \"_\" + end_date + \".csv\")\n",
    "    df.to_csv(result_path, encoding='utf-8', index=False)\n",
    "    return\n",
    "\n",
    "## useful for getting all details for upload to Pennsieve for a specific time period\n",
    "## all responses go to the custom folder\n",
    "# num_of_files_folders_in_dataset(start_date, end_date)\n",
    "dataset_statistics(start_date, end_date)"
   ]
  },
  {
   "cell_type": "markdown",
   "id": "04d9e7d8",
   "metadata": {},
   "source": [
    "### Get the number of files and the size of a specific dataset that was uploaded through SODA"
   ]
  },
  {
   "cell_type": "code",
   "execution_count": 16,
   "id": "bc4fb9c0",
   "metadata": {},
   "outputs": [],
   "source": [
    "def num_of_files_folders_in_dataset(start_date, end_date, dataset_name):\n",
    "    query = {\n",
    "        'reportRequests': [\n",
    "        {\n",
    "            'viewId': VIEW_ID,\n",
    "            'dateRanges': [{'startDate': start_date, 'endDate': end_date}],\n",
    "            'metrics': [{'expression': 'ga:totalEvents'}],\n",
    "            'dimensions': [{'name': 'ga:eventCategory'}, {'name': 'ga:eventAction'}, {'name': 'ga:eventLabel'}]\n",
    "        }]\n",
    "    }\n",
    "    response = get_report(analytics, query)\n",
    "    response_rows = response[\"reports\"][0][\"data\"][\"rows\"]\n",
    "    data = []\n",
    "    \n",
    "    for res in response_rows:\n",
    "        if res[\"dimensions\"][1].find(\"Upload Local Dataset\") != -1:\n",
    "            if res[\"dimensions\"][1].find(dataset_name) != -1:\n",
    "                if res[\"dimensions\"][1].find('Number of Files') != -1:\n",
    "                    cell_data = [res[\"dimensions\"][0], res[\"dimensions\"][2], 0]\n",
    "                    data.append(cell_data)\n",
    "                if res[\"dimensions\"][1].find('- size') != -1:\n",
    "                    cell_data = [res[\"dimensions\"][0], 0, res[\"dimensions\"][2]]\n",
    "                    data.append(cell_data)\n",
    "            \n",
    "    query = {\n",
    "        'reportRequests': [\n",
    "        {\n",
    "            'viewId': VIEW_ID,\n",
    "            'dateRanges': [{'startDate': start_date, 'endDate': end_date}],\n",
    "            'metrics': [{'expression': 'ga:eventValue'}],\n",
    "            'dimensions': [{'name': 'ga:eventCategory'}, {'name': 'ga:eventAction'}, {'name': 'ga:eventLabel'}]\n",
    "        }]\n",
    "    }\n",
    "    response = get_report(analytics, query)\n",
    "    response_rows = response[\"reports\"][0][\"data\"][\"rows\"]\n",
    "    res[\"metrics\"][0][\"values\"][0]\n",
    "    for res in response_rows:\n",
    "        if res[\"dimensions\"][1].find(\"Generate Dataset\") != -1:\n",
    "            if res[\"dimensions\"][2].find(dataset_name) != -1:\n",
    "                if res[\"dimensions\"][1] == 'Generate Dataset - Number of Files':\n",
    "                    cell_data = [res[\"dimensions\"][0], res[\"metrics\"][0][\"values\"][0], 0]\n",
    "                    data.append(cell_data)\n",
    "                if res[\"dimensions\"][1] == 'Generate Dataset - Size':\n",
    "                    cell_data = [res[\"dimensions\"][0], 0, res[\"metrics\"][0][\"values\"][0]]\n",
    "                    data.append(cell_data)\n",
    "                \n",
    "                    \n",
    "    folder_path = os.path.join(\"result_csv\", \"custom\")\n",
    "    Path(folder_path).mkdir(parents=True, exist_ok=True)\n",
    "\n",
    "    df = pd.DataFrame(data, columns = ['Status', 'Number of Files', 'Size in (bytes)'])\n",
    "    result_path = os.path.join(folder_path, dataset_name + \"(details)-\" + start_date + \"_\" + end_date + \".csv\")\n",
    "    df.to_csv(result_path, encoding='utf-8', index=False)\n",
    "    return\n",
    "\n",
    "## useful for getting all the number of files and size for a specific dataset\n",
    "## all responses go to the custom folder\n",
    "# num_of_files_folders_in_dataset(start_date, end_date, <Dataset_name>)\n",
    "num_of_files_folders_in_dataset(start_date, end_date, \"test-ps-SODA\")"
   ]
  },
  {
   "cell_type": "code",
   "execution_count": null,
   "id": "edead51e",
   "metadata": {},
   "outputs": [],
   "source": []
  }
 ],
 "metadata": {
  "kernelspec": {
   "display_name": "Python 3",
   "language": "python",
   "name": "python3"
  },
  "language_info": {
   "codemirror_mode": {
    "name": "ipython",
    "version": 3
   },
   "file_extension": ".py",
   "mimetype": "text/x-python",
   "name": "python",
   "nbconvert_exporter": "python",
   "pygments_lexer": "ipython3",
   "version": "3.6.12"
  }
 },
 "nbformat": 4,
 "nbformat_minor": 5
}
