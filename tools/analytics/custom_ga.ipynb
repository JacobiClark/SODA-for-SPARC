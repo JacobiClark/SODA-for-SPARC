{
 "cells": [
  {
   "cell_type": "markdown",
   "id": "993aa5c4",
   "metadata": {},
   "source": [
    "# Pre-requisite installations if needed"
   ]
  },
  {
   "cell_type": "code",
   "execution_count": 1,
   "id": "7bea5be5",
   "metadata": {
    "collapsed": true,
    "jupyter": {
     "outputs_hidden": true
    },
    "tags": []
   },
   "outputs": [
    {
     "name": "stdout",
     "output_type": "stream",
     "text": [
      "Requirement already satisfied: oauth2client in /home/dev/anaconda3/envs/env-electron-python/lib/python3.6/site-packages (4.1.3)\n",
      "Requirement already satisfied: rsa>=3.1.4 in /home/dev/anaconda3/envs/env-electron-python/lib/python3.6/site-packages (from oauth2client) (4.0)\n",
      "Requirement already satisfied: pyasn1>=0.1.7 in /home/dev/anaconda3/envs/env-electron-python/lib/python3.6/site-packages (from oauth2client) (0.4.8)\n",
      "Requirement already satisfied: pyasn1-modules>=0.0.5 in /home/dev/anaconda3/envs/env-electron-python/lib/python3.6/site-packages (from oauth2client) (0.2.8)\n",
      "Requirement already satisfied: six>=1.6.1 in /home/dev/anaconda3/envs/env-electron-python/lib/python3.6/site-packages (from oauth2client) (1.15.0)\n",
      "Requirement already satisfied: httplib2>=0.9.1 in /home/dev/anaconda3/envs/env-electron-python/lib/python3.6/site-packages (from oauth2client) (0.19.1)\n",
      "Requirement already satisfied: pyparsing<3,>=2.4.2 in /home/dev/anaconda3/envs/env-electron-python/lib/python3.6/site-packages (from httplib2>=0.9.1->oauth2client) (2.4.7)\n",
      "Requirement already satisfied: google-api-python-client in /home/dev/anaconda3/envs/env-electron-python/lib/python3.6/site-packages (2.2.0)\n",
      "Requirement already satisfied: google-auth-httplib2>=0.1.0 in /home/dev/anaconda3/envs/env-electron-python/lib/python3.6/site-packages (from google-api-python-client) (0.1.0)\n",
      "Requirement already satisfied: six<2dev,>=1.13.0 in /home/dev/anaconda3/envs/env-electron-python/lib/python3.6/site-packages (from google-api-python-client) (1.15.0)\n",
      "Requirement already satisfied: google-api-core<2dev,>=1.21.0 in /home/dev/anaconda3/envs/env-electron-python/lib/python3.6/site-packages (from google-api-python-client) (1.26.3)\n",
      "Requirement already satisfied: uritemplate<4dev,>=3.0.0 in /home/dev/anaconda3/envs/env-electron-python/lib/python3.6/site-packages (from google-api-python-client) (3.0.1)\n",
      "Requirement already satisfied: httplib2<1dev,>=0.15.0 in /home/dev/anaconda3/envs/env-electron-python/lib/python3.6/site-packages (from google-api-python-client) (0.19.1)\n",
      "Requirement already satisfied: google-auth<2dev,>=1.16.0 in /home/dev/anaconda3/envs/env-electron-python/lib/python3.6/site-packages (from google-api-python-client) (1.29.0)\n",
      "Requirement already satisfied: protobuf>=3.12.0 in /home/dev/anaconda3/envs/env-electron-python/lib/python3.6/site-packages (from google-api-core<2dev,>=1.21.0->google-api-python-client) (3.15.8)\n",
      "Requirement already satisfied: requests<3.0.0dev,>=2.18.0 in /home/dev/anaconda3/envs/env-electron-python/lib/python3.6/site-packages (from google-api-core<2dev,>=1.21.0->google-api-python-client) (2.25.1)\n",
      "Requirement already satisfied: pytz in /home/dev/anaconda3/envs/env-electron-python/lib/python3.6/site-packages (from google-api-core<2dev,>=1.21.0->google-api-python-client) (2021.1)\n",
      "Requirement already satisfied: googleapis-common-protos<2.0dev,>=1.6.0 in /home/dev/anaconda3/envs/env-electron-python/lib/python3.6/site-packages (from google-api-core<2dev,>=1.21.0->google-api-python-client) (1.53.0)\n",
      "Requirement already satisfied: packaging>=14.3 in /home/dev/anaconda3/envs/env-electron-python/lib/python3.6/site-packages (from google-api-core<2dev,>=1.21.0->google-api-python-client) (20.9)\n",
      "Requirement already satisfied: setuptools>=40.3.0 in /home/dev/anaconda3/envs/env-electron-python/lib/python3.6/site-packages (from google-api-core<2dev,>=1.21.0->google-api-python-client) (52.0.0.post20210125)\n",
      "Requirement already satisfied: rsa<5,>=3.1.4 in /home/dev/anaconda3/envs/env-electron-python/lib/python3.6/site-packages (from google-auth<2dev,>=1.16.0->google-api-python-client) (4.0)\n",
      "Requirement already satisfied: cachetools<5.0,>=2.0.0 in /home/dev/anaconda3/envs/env-electron-python/lib/python3.6/site-packages (from google-auth<2dev,>=1.16.0->google-api-python-client) (4.2.1)\n",
      "Requirement already satisfied: pyasn1-modules>=0.2.1 in /home/dev/anaconda3/envs/env-electron-python/lib/python3.6/site-packages (from google-auth<2dev,>=1.16.0->google-api-python-client) (0.2.8)\n",
      "Requirement already satisfied: pyparsing<3,>=2.4.2 in /home/dev/anaconda3/envs/env-electron-python/lib/python3.6/site-packages (from httplib2<1dev,>=0.15.0->google-api-python-client) (2.4.7)\n",
      "Requirement already satisfied: pyasn1<0.5.0,>=0.4.6 in /home/dev/anaconda3/envs/env-electron-python/lib/python3.6/site-packages (from pyasn1-modules>=0.2.1->google-auth<2dev,>=1.16.0->google-api-python-client) (0.4.8)\n",
      "Requirement already satisfied: idna<3,>=2.5 in /home/dev/anaconda3/envs/env-electron-python/lib/python3.6/site-packages (from requests<3.0.0dev,>=2.18.0->google-api-core<2dev,>=1.21.0->google-api-python-client) (2.10)\n",
      "Requirement already satisfied: certifi>=2017.4.17 in /home/dev/anaconda3/envs/env-electron-python/lib/python3.6/site-packages (from requests<3.0.0dev,>=2.18.0->google-api-core<2dev,>=1.21.0->google-api-python-client) (2020.12.5)\n",
      "Requirement already satisfied: urllib3<1.27,>=1.21.1 in /home/dev/anaconda3/envs/env-electron-python/lib/python3.6/site-packages (from requests<3.0.0dev,>=2.18.0->google-api-core<2dev,>=1.21.0->google-api-python-client) (1.26.4)\n",
      "Requirement already satisfied: chardet<5,>=3.0.2 in /home/dev/anaconda3/envs/env-electron-python/lib/python3.6/site-packages (from requests<3.0.0dev,>=2.18.0->google-api-core<2dev,>=1.21.0->google-api-python-client) (4.0.0)\n",
      "Requirement already satisfied: ipywidgets in /home/dev/anaconda3/envs/env-electron-python/lib/python3.6/site-packages (7.6.3)\n",
      "Requirement already satisfied: nbformat>=4.2.0 in /home/dev/anaconda3/envs/env-electron-python/lib/python3.6/site-packages (from ipywidgets) (5.1.3)\n",
      "Requirement already satisfied: widgetsnbextension~=3.5.0 in /home/dev/anaconda3/envs/env-electron-python/lib/python3.6/site-packages (from ipywidgets) (3.5.1)\n",
      "Requirement already satisfied: ipython>=4.0.0 in /home/dev/anaconda3/envs/env-electron-python/lib/python3.6/site-packages (from ipywidgets) (5.8.0)\n",
      "Requirement already satisfied: ipykernel>=4.5.1 in /home/dev/anaconda3/envs/env-electron-python/lib/python3.6/site-packages (from ipywidgets) (5.5.3)\n",
      "Requirement already satisfied: jupyterlab-widgets>=1.0.0 in /home/dev/anaconda3/envs/env-electron-python/lib/python3.6/site-packages (from ipywidgets) (1.0.0)\n",
      "Requirement already satisfied: traitlets>=4.3.1 in /home/dev/anaconda3/envs/env-electron-python/lib/python3.6/site-packages (from ipywidgets) (4.3.3)\n",
      "Requirement already satisfied: jupyter-client in /home/dev/anaconda3/envs/env-electron-python/lib/python3.6/site-packages (from ipykernel>=4.5.1->ipywidgets) (6.1.12)\n",
      "Requirement already satisfied: tornado>=4.2 in /home/dev/anaconda3/envs/env-electron-python/lib/python3.6/site-packages (from ipykernel>=4.5.1->ipywidgets) (6.1)\n",
      "Requirement already satisfied: pygments in /home/dev/anaconda3/envs/env-electron-python/lib/python3.6/site-packages (from ipython>=4.0.0->ipywidgets) (2.8.1)\n",
      "Requirement already satisfied: setuptools>=18.5 in /home/dev/anaconda3/envs/env-electron-python/lib/python3.6/site-packages (from ipython>=4.0.0->ipywidgets) (52.0.0.post20210125)\n",
      "Requirement already satisfied: pexpect in /home/dev/anaconda3/envs/env-electron-python/lib/python3.6/site-packages (from ipython>=4.0.0->ipywidgets) (4.8.0)\n",
      "Requirement already satisfied: pickleshare in /home/dev/anaconda3/envs/env-electron-python/lib/python3.6/site-packages (from ipython>=4.0.0->ipywidgets) (0.7.5)\n",
      "Requirement already satisfied: decorator in /home/dev/anaconda3/envs/env-electron-python/lib/python3.6/site-packages (from ipython>=4.0.0->ipywidgets) (5.0.7)\n",
      "Requirement already satisfied: simplegeneric>0.8 in /home/dev/anaconda3/envs/env-electron-python/lib/python3.6/site-packages (from ipython>=4.0.0->ipywidgets) (0.8.1)\n",
      "Requirement already satisfied: prompt-toolkit<2.0.0,>=1.0.4 in /home/dev/anaconda3/envs/env-electron-python/lib/python3.6/site-packages (from ipython>=4.0.0->ipywidgets) (1.0.15)\n",
      "Requirement already satisfied: jsonschema!=2.5.0,>=2.4 in /home/dev/anaconda3/envs/env-electron-python/lib/python3.6/site-packages (from nbformat>=4.2.0->ipywidgets) (3.2.0)\n",
      "Requirement already satisfied: ipython-genutils in /home/dev/anaconda3/envs/env-electron-python/lib/python3.6/site-packages (from nbformat>=4.2.0->ipywidgets) (0.2.0)\n",
      "Requirement already satisfied: jupyter-core in /home/dev/anaconda3/envs/env-electron-python/lib/python3.6/site-packages (from nbformat>=4.2.0->ipywidgets) (4.7.1)\n",
      "Requirement already satisfied: six>=1.11.0 in /home/dev/anaconda3/envs/env-electron-python/lib/python3.6/site-packages (from jsonschema!=2.5.0,>=2.4->nbformat>=4.2.0->ipywidgets) (1.15.0)\n",
      "Requirement already satisfied: attrs>=17.4.0 in /home/dev/anaconda3/envs/env-electron-python/lib/python3.6/site-packages (from jsonschema!=2.5.0,>=2.4->nbformat>=4.2.0->ipywidgets) (20.3.0)\n",
      "Requirement already satisfied: importlib-metadata in /home/dev/anaconda3/envs/env-electron-python/lib/python3.6/site-packages (from jsonschema!=2.5.0,>=2.4->nbformat>=4.2.0->ipywidgets) (4.0.1)\n",
      "Requirement already satisfied: pyrsistent>=0.14.0 in /home/dev/anaconda3/envs/env-electron-python/lib/python3.6/site-packages (from jsonschema!=2.5.0,>=2.4->nbformat>=4.2.0->ipywidgets) (0.17.3)\n",
      "Requirement already satisfied: wcwidth in /home/dev/anaconda3/envs/env-electron-python/lib/python3.6/site-packages (from prompt-toolkit<2.0.0,>=1.0.4->ipython>=4.0.0->ipywidgets) (0.2.5)\n",
      "Requirement already satisfied: notebook>=4.4.1 in /home/dev/anaconda3/envs/env-electron-python/lib/python3.6/site-packages (from widgetsnbextension~=3.5.0->ipywidgets) (6.3.0)\n",
      "Requirement already satisfied: nbconvert in /home/dev/anaconda3/envs/env-electron-python/lib/python3.6/site-packages (from notebook>=4.4.1->widgetsnbextension~=3.5.0->ipywidgets) (6.0.7)\n",
      "Requirement already satisfied: jinja2 in /home/dev/anaconda3/envs/env-electron-python/lib/python3.6/site-packages (from notebook>=4.4.1->widgetsnbextension~=3.5.0->ipywidgets) (2.11.3)\n",
      "Requirement already satisfied: pyzmq>=17 in /home/dev/anaconda3/envs/env-electron-python/lib/python3.6/site-packages (from notebook>=4.4.1->widgetsnbextension~=3.5.0->ipywidgets) (22.0.3)\n",
      "Requirement already satisfied: argon2-cffi in /home/dev/anaconda3/envs/env-electron-python/lib/python3.6/site-packages (from notebook>=4.4.1->widgetsnbextension~=3.5.0->ipywidgets) (20.1.0)\n",
      "Requirement already satisfied: prometheus-client in /home/dev/anaconda3/envs/env-electron-python/lib/python3.6/site-packages (from notebook>=4.4.1->widgetsnbextension~=3.5.0->ipywidgets) (0.10.1)\n",
      "Requirement already satisfied: Send2Trash>=1.5.0 in /home/dev/anaconda3/envs/env-electron-python/lib/python3.6/site-packages (from notebook>=4.4.1->widgetsnbextension~=3.5.0->ipywidgets) (1.5.0)\n",
      "Requirement already satisfied: terminado>=0.8.3 in /home/dev/anaconda3/envs/env-electron-python/lib/python3.6/site-packages (from notebook>=4.4.1->widgetsnbextension~=3.5.0->ipywidgets) (0.9.4)\n",
      "Requirement already satisfied: python-dateutil>=2.1 in /home/dev/anaconda3/envs/env-electron-python/lib/python3.6/site-packages (from jupyter-client->ipykernel>=4.5.1->ipywidgets) (2.8.1)\n",
      "Requirement already satisfied: ptyprocess in /home/dev/anaconda3/envs/env-electron-python/lib/python3.6/site-packages (from terminado>=0.8.3->notebook>=4.4.1->widgetsnbextension~=3.5.0->ipywidgets) (0.7.0)\n",
      "Requirement already satisfied: cffi>=1.0.0 in /home/dev/anaconda3/envs/env-electron-python/lib/python3.6/site-packages (from argon2-cffi->notebook>=4.4.1->widgetsnbextension~=3.5.0->ipywidgets) (1.14.5)\n",
      "Requirement already satisfied: pycparser in /home/dev/anaconda3/envs/env-electron-python/lib/python3.6/site-packages (from cffi>=1.0.0->argon2-cffi->notebook>=4.4.1->widgetsnbextension~=3.5.0->ipywidgets) (2.20)\n",
      "Requirement already satisfied: zipp>=0.5 in /home/dev/anaconda3/envs/env-electron-python/lib/python3.6/site-packages (from importlib-metadata->jsonschema!=2.5.0,>=2.4->nbformat>=4.2.0->ipywidgets) (3.4.1)\n",
      "Requirement already satisfied: typing-extensions>=3.6.4 in /home/dev/anaconda3/envs/env-electron-python/lib/python3.6/site-packages (from importlib-metadata->jsonschema!=2.5.0,>=2.4->nbformat>=4.2.0->ipywidgets) (3.7.4.3)\n",
      "Requirement already satisfied: MarkupSafe>=0.23 in /home/dev/anaconda3/envs/env-electron-python/lib/python3.6/site-packages (from jinja2->notebook>=4.4.1->widgetsnbextension~=3.5.0->ipywidgets) (1.1.1)\n",
      "Requirement already satisfied: nbclient<0.6.0,>=0.5.0 in /home/dev/anaconda3/envs/env-electron-python/lib/python3.6/site-packages (from nbconvert->notebook>=4.4.1->widgetsnbextension~=3.5.0->ipywidgets) (0.5.3)\n",
      "Requirement already satisfied: bleach in /home/dev/anaconda3/envs/env-electron-python/lib/python3.6/site-packages (from nbconvert->notebook>=4.4.1->widgetsnbextension~=3.5.0->ipywidgets) (3.3.0)\n",
      "Requirement already satisfied: mistune<2,>=0.8.1 in /home/dev/anaconda3/envs/env-electron-python/lib/python3.6/site-packages (from nbconvert->notebook>=4.4.1->widgetsnbextension~=3.5.0->ipywidgets) (0.8.4)\n",
      "Requirement already satisfied: defusedxml in /home/dev/anaconda3/envs/env-electron-python/lib/python3.6/site-packages (from nbconvert->notebook>=4.4.1->widgetsnbextension~=3.5.0->ipywidgets) (0.7.1)\n",
      "Requirement already satisfied: testpath in /home/dev/anaconda3/envs/env-electron-python/lib/python3.6/site-packages (from nbconvert->notebook>=4.4.1->widgetsnbextension~=3.5.0->ipywidgets) (0.4.4)\n",
      "Requirement already satisfied: jupyterlab-pygments in /home/dev/anaconda3/envs/env-electron-python/lib/python3.6/site-packages (from nbconvert->notebook>=4.4.1->widgetsnbextension~=3.5.0->ipywidgets) (0.1.2)\n",
      "Requirement already satisfied: entrypoints>=0.2.2 in /home/dev/anaconda3/envs/env-electron-python/lib/python3.6/site-packages (from nbconvert->notebook>=4.4.1->widgetsnbextension~=3.5.0->ipywidgets) (0.3)\n",
      "Requirement already satisfied: pandocfilters>=1.4.1 in /home/dev/anaconda3/envs/env-electron-python/lib/python3.6/site-packages (from nbconvert->notebook>=4.4.1->widgetsnbextension~=3.5.0->ipywidgets) (1.4.2)\n",
      "Requirement already satisfied: async-generator in /home/dev/anaconda3/envs/env-electron-python/lib/python3.6/site-packages (from nbclient<0.6.0,>=0.5.0->nbconvert->notebook>=4.4.1->widgetsnbextension~=3.5.0->ipywidgets) (1.10)\n",
      "Requirement already satisfied: nest-asyncio in /home/dev/anaconda3/envs/env-electron-python/lib/python3.6/site-packages (from nbclient<0.6.0,>=0.5.0->nbconvert->notebook>=4.4.1->widgetsnbextension~=3.5.0->ipywidgets) (1.5.1)\n",
      "Requirement already satisfied: packaging in /home/dev/anaconda3/envs/env-electron-python/lib/python3.6/site-packages (from bleach->nbconvert->notebook>=4.4.1->widgetsnbextension~=3.5.0->ipywidgets) (20.9)\n",
      "Requirement already satisfied: webencodings in /home/dev/anaconda3/envs/env-electron-python/lib/python3.6/site-packages (from bleach->nbconvert->notebook>=4.4.1->widgetsnbextension~=3.5.0->ipywidgets) (0.5.1)\n",
      "Requirement already satisfied: pyparsing>=2.0.2 in /home/dev/anaconda3/envs/env-electron-python/lib/python3.6/site-packages (from packaging->bleach->nbconvert->notebook>=4.4.1->widgetsnbextension~=3.5.0->ipywidgets) (2.4.7)\n",
      "Requirement already satisfied: plotly in /home/dev/anaconda3/envs/env-electron-python/lib/python3.6/site-packages (4.14.3)\n",
      "Requirement already satisfied: retrying>=1.3.3 in /home/dev/anaconda3/envs/env-electron-python/lib/python3.6/site-packages (from plotly) (1.3.3)\n",
      "Requirement already satisfied: six in /home/dev/anaconda3/envs/env-electron-python/lib/python3.6/site-packages (from plotly) (1.15.0)\n",
      "Requirement already satisfied: tqdm in /home/dev/anaconda3/envs/env-electron-python/lib/python3.6/site-packages (4.60.0)\n"
     ]
    }
   ],
   "source": [
    "!pip install oauth2client\n",
    "!pip install google-api-python-client\n",
    "!pip install ipywidgets\n",
    "!pip install plotly\n",
    "!pip install tqdm"
   ]
  },
  {
   "cell_type": "markdown",
   "id": "3b9d99ec",
   "metadata": {},
   "source": [
    "# --------------------------------------------------------------------------------------------------"
   ]
  },
  {
   "cell_type": "code",
   "execution_count": 2,
   "id": "557ecbd2",
   "metadata": {},
   "outputs": [],
   "source": [
    "import argparse\n",
    "import pandas as pd\n",
    "import json\n",
    "import os\n",
    "import ipywidgets as widgets\n",
    "from pathlib import Path\n",
    "from datetime import datetime, timedelta\n",
    "from dateutil.relativedelta import relativedelta\n",
    "import calendar\n",
    "\n",
    "from tqdm.notebook import tqdm, trange\n",
    "\n",
    "import plotly\n",
    "import plotly.graph_objs as go\n",
    "import plotly.express as px\n",
    "import plotly.io as pio\n",
    "\n",
    "from apiclient.discovery import build\n",
    "from oauth2client.service_account import ServiceAccountCredentials\n",
    "\n",
    "import httplib2\n",
    "from oauth2client import client\n",
    "from oauth2client import file\n",
    "from oauth2client import tools\n",
    "from helper_functions import initialize_analyticsreporting, get_report, print_response, VIEW_ID, next_date_interval, progress_bar_counter\n",
    "\n",
    "pio.renderers.default = \"iframe\"\n",
    "\n",
    "analytics = initialize_analyticsreporting()"
   ]
  },
  {
   "cell_type": "markdown",
   "id": "23128793",
   "metadata": {},
   "source": [
    "# --------------------------------------------------------------------------------------------------"
   ]
  },
  {
   "cell_type": "markdown",
   "id": "f78fb260",
   "metadata": {},
   "source": [
    "#### The cell below will render the widgets needed to select the items in the graph. This cell only needs to be run ONCE (to show the widgets only). After display, you don't have to run this cell. The report/graph will include the end date."
   ]
  },
  {
   "cell_type": "markdown",
   "id": "02c9740a",
   "metadata": {},
   "source": [
    "# --------------------------------------------------------------------------------------------------"
   ]
  },
  {
   "cell_type": "code",
   "execution_count": 29,
   "id": "ce59ca92",
   "metadata": {},
   "outputs": [
    {
     "data": {
      "application/vnd.jupyter.widget-view+json": {
       "model_id": "f14d2ada3f91400fbdabe352dc5a4156",
       "version_major": 2,
       "version_minor": 0
      },
      "text/plain": [
       "Dropdown(description='Option:', options=('New/Returning Users', 'App Launched - OS', 'App Launched - SODA', 'M…"
      ]
     },
     "metadata": {},
     "output_type": "display_data"
    },
    {
     "data": {
      "application/vnd.jupyter.widget-view+json": {
       "model_id": "b2e9b0499d6b45e5b0fe1acb7e506cd2",
       "version_major": 2,
       "version_minor": 0
      },
      "text/plain": [
       "DatePicker(value=None, description='Start Date:')"
      ]
     },
     "metadata": {},
     "output_type": "display_data"
    },
    {
     "data": {
      "application/vnd.jupyter.widget-view+json": {
       "model_id": "29e47bbf56a444da8d96464fa9666032",
       "version_major": 2,
       "version_minor": 0
      },
      "text/plain": [
       "DatePicker(value=None, description='End Date:')"
      ]
     },
     "metadata": {},
     "output_type": "display_data"
    },
    {
     "data": {
      "application/vnd.jupyter.widget-view+json": {
       "model_id": "a2c6e6be41a044cf80010fba4dac57cc",
       "version_major": 2,
       "version_minor": 0
      },
      "text/plain": [
       "Dropdown(description='Update Interval:', options=('Daily', 'Weekly', 'Monthly'), value='Daily')"
      ]
     },
     "metadata": {},
     "output_type": "display_data"
    }
   ],
   "source": [
    "feature = widgets.Dropdown(\n",
    "    options=[\n",
    "        'New/Returning Users',\n",
    "        'App Launched - OS', \n",
    "        'App Launched - SODA', \n",
    "        'Manage Dataset - Create Empty Dataset', \n",
    "        'Manage Dataset - Rename Existing Dataset', \n",
    "        'Manage Dataset - Change PI owner', \n",
    "        'Manage Dataset - Add User Permission',\n",
    "        'Manage Dataset - Add/Edit Subtitle',\n",
    "        'Manage Dataset - Add/Edit Description', \n",
    "        'Manage Dataset - Upload Banner Image', \n",
    "        'Manage Dataset - Assign License',\n",
    "        'Manage Dataset - Upload Local Dataset', \n",
    "        'Manage Dataset - Change Dataset Status',\n",
    "        'Prepare Metadata - Add Airtable account',\n",
    "        'Prepare Metadata - Add DDD',\n",
    "        'Prepare Metadata - Create Submission',\n",
    "        'Prepare Metadata - Create dataset_description',\n",
    "        'Generate Dataset - Local',\n",
    "        'Generate Dataset - Blackfynn',\n",
    "        'Generate Dataset - Pennsieve', \n",
    "        'Manifest Files Created - Blackfynn', \n",
    "        'Disseminate Dataset - Share with Curation Team', \n",
    "        'Disseminate Dataset - Share with Consortium',\n",
    "        'Disseminate Dataset - Pre-publishing Review'],\n",
    "    value='New/Returning Users',\n",
    "    description='Option:',\n",
    "    disabled=False,\n",
    ")\n",
    "\n",
    "start_date = widgets.DatePicker(description='Start Date:', disabled=False)\n",
    "end_date = widgets.DatePicker(description='End Date:', disabled=False)\n",
    "\n",
    "update_interval = widgets.Dropdown(options=['Daily', 'Weekly', 'Monthly'], description='Update Interval:', disabled=False)\n",
    "\n",
    "display(feature, start_date, end_date, update_interval)"
   ]
  },
  {
   "cell_type": "markdown",
   "id": "1e21dcb2",
   "metadata": {},
   "source": [
    "# --------------------------------------------------------------------------------------------------"
   ]
  },
  {
   "cell_type": "markdown",
   "id": "2e1f680d",
   "metadata": {},
   "source": [
    "#### The cell below is a basic function that uses the widgets in the cell above to create a graph. If the widgets are not showing, run the widget cell. You don't have to run it again after selecting a value. Changing the value of the dropdown will dynamically change the value of the variable in the next cell."
   ]
  },
  {
   "cell_type": "markdown",
   "id": "7bc5280c",
   "metadata": {},
   "source": [
    "# --------------------------------------------------------------------------------------------------"
   ]
  },
  {
   "cell_type": "code",
   "execution_count": 30,
   "id": "96dfe833",
   "metadata": {},
   "outputs": [
    {
     "data": {
      "application/vnd.jupyter.widget-view+json": {
       "model_id": "8faf79db221843a9aaf146670edfbd1c",
       "version_major": 2,
       "version_minor": 0
      },
      "text/plain": [
       "  0%|          | 0/84 [00:00<?, ?it/s]"
      ]
     },
     "metadata": {},
     "output_type": "display_data"
    },
    {
     "data": {
      "text/html": [
       "<iframe\n",
       "    scrolling=\"no\"\n",
       "    width=\"100%\"\n",
       "    height=\"545px\"\n",
       "    src=\"iframe_figures/figure_30.html\"\n",
       "    frameborder=\"0\"\n",
       "    allowfullscreen\n",
       "></iframe>\n"
      ]
     },
     "metadata": {},
     "output_type": "display_data"
    }
   ],
   "source": [
    "dt = start_date.value\n",
    "ds = end_date.value\n",
    "\n",
    "data, new_user_data, returning_user_data = [], [], []\n",
    "column_headers = []\n",
    "file_name = \"\"\n",
    "bar_counter = 0\n",
    "\n",
    "if update_interval.value == \"Daily\":\n",
    "    bar_counter = progress_bar_counter(dt, ds, \"Daily\")\n",
    "    start = end = dt\n",
    "    column_headers = ['Day', 'Frequency']\n",
    "    file_name = \"daily\"\n",
    "if update_interval.value == \"Weekly\":\n",
    "    bar_counter = progress_bar_counter(dt, ds, \"Weekly\")    \n",
    "    start = dt - timedelta(days=dt.weekday())\n",
    "    end = start + timedelta(days=6)\n",
    "    column_headers = ['Week', 'Frequency']\n",
    "    file_name = \"weekly\"\n",
    "if update_interval.value == \"Monthly\":\n",
    "    bar_counter = progress_bar_counter(dt, ds, \"Monthly\")\n",
    "    start = end = dt\n",
    "    column_headers = ['Month', 'Frequency']\n",
    "    file_name = \"monthly\"\n",
    "    \n",
    "for i in trange(bar_counter):\n",
    "    if start <= ds:\n",
    "        if feature.value == \"New/Returning Users\":\n",
    "            query = {\n",
    "                'reportRequests': [\n",
    "                {\n",
    "                    'viewId': VIEW_ID,\n",
    "                    'dateRanges': [{'startDate': start.strftime('%Y-%m-%d'), 'endDate': end.strftime('%Y-%m-%d')}],\n",
    "                    'metrics': [{'expression': 'ga:users'}],\n",
    "                    'dimensions': [{'name': 'ga:userType'}]\n",
    "                }]\n",
    "            }\n",
    "        else:\n",
    "            query = {\n",
    "                'reportRequests': [\n",
    "                {\n",
    "                    'viewId': VIEW_ID,\n",
    "                    'dateRanges': [{'startDate': start.strftime('%Y-%m-%d'), 'endDate': end.strftime('%Y-%m-%d')}],\n",
    "                    'metrics': [{'expression': 'ga:totalEvents'}],\n",
    "                    'dimensions': [{'name': 'ga:eventAction'}]\n",
    "                }]\n",
    "            }\n",
    "            \n",
    "        cell_data, new_user_cell_data, returning_user_cell_data = [], [], []\n",
    "        \n",
    "        if update_interval.value == \"Daily\":\n",
    "            cell_data_date = start.strftime(\"%d %b, %Y\")     \n",
    "        if update_interval.value == \"Weekly\":\n",
    "            cell_data_date = start.strftime(\"%d %b, %Y\") + \" - \" + end.strftime(\"%d %b, %Y\")    \n",
    "        if update_interval.value == \"Monthly\":\n",
    "            cell_data_date = start.strftime(\"%b %Y\")\n",
    "        \n",
    "        response = response_rows = []\n",
    "        response = get_report(analytics, query)\n",
    "        if \"rows\" in response[\"reports\"][0][\"data\"]:\n",
    "            response_rows = response[\"reports\"][0][\"data\"][\"rows\"]\n",
    "        else:\n",
    "            response_rows = []\n",
    "            if feature.value == \"New/Returning Users\":\n",
    "                new_user_cell_data = [cell_data_date, 0]\n",
    "                new_user_data.append(new_user_cell_data)\n",
    "                returning_user_cell_data = [cell_data_date, 0]\n",
    "                returning_user_data.append(returning_user_cell_data)\n",
    "            else:\n",
    "                cell_data = [cell_data_date, 0]\n",
    "                data.append(cell_data)\n",
    "        \n",
    "        if feature.value == \"New/Returning Users\":\n",
    "            if response_rows != []:\n",
    "                new_user = False\n",
    "                returning_user = False\n",
    "                for res in response_rows:\n",
    "                    if (res[\"dimensions\"][0] == \"New Visitor\"):\n",
    "                        new_user_cell_data = [cell_data_date, int(res[\"metrics\"][0][\"values\"][0])]\n",
    "                        new_user_data.append(new_user_cell_data)\n",
    "                        new_user = True\n",
    "                    if (res[\"dimensions\"][0] == \"Returning Visitor\"):\n",
    "                        returning_user_cell_data = [cell_data_date, int(res[\"metrics\"][0][\"values\"][0])]\n",
    "                        returning_user_data.append(returning_user_cell_data)\n",
    "                        returning_user = True\n",
    "                if new_user == False:\n",
    "                    new_user_cell_data = [cell_data_date, 0]\n",
    "                    new_user_data.append(new_user_cell_data)\n",
    "                if returning_user == False:\n",
    "                    returning_user_cell_data = [cell_data_date, 0]\n",
    "                    returning_user_data.append(returning_user_cell_data)\n",
    "        else:\n",
    "            if response_rows != []:\n",
    "                response_present = False\n",
    "                for res in response_rows:\n",
    "                    if res[\"dimensions\"][0] == feature.value:\n",
    "                        cell_data = [cell_data_date, int(res[\"metrics\"][0][\"values\"][0])]\n",
    "                        data.append(cell_data)\n",
    "                        response_present = True\n",
    "                if response_present == False:\n",
    "                    cell_data = [cell_data_date, 0]\n",
    "                    data.append(cell_data)\n",
    "        \n",
    "        start, end = next_date_interval(start, end, update_interval.value)\n",
    "        \n",
    "folder_path = os.path.join(\"result_csv\", \"graph_data\")\n",
    "Path(folder_path).mkdir(parents=True, exist_ok=True)\n",
    "\n",
    "df = new_df = returning_df = None\n",
    "if feature.value == \"New/Returning Users\":\n",
    "    \n",
    "    new_df = pd.DataFrame(new_user_data, columns = column_headers)\n",
    "    returning_df = pd.DataFrame(returning_user_data, columns = column_headers)\n",
    "    \n",
    "    new_action_column = new_df.iloc[:, 0]\n",
    "    new_frequency_column = new_df.iloc[:, 1]\n",
    "    new_x_markers = pd.Series(new_action_column).array\n",
    "    new_y_markers = pd.Series(new_frequency_column).array\n",
    "    new_y_markers = new_y_markers.astype(int)\n",
    "    \n",
    "    fig = go.Figure()\n",
    "    fig.add_trace(go.Scatter(x = new_x_markers, y = new_y_markers, mode = 'lines+markers', name = 'New Users'))\n",
    "    \n",
    "    ret_action_column = returning_df.iloc[:, 0]\n",
    "    ret_frequency_column = returning_df.iloc[:, 1]\n",
    "    ret_x_markers = pd.Series(ret_action_column).array\n",
    "    ret_y_markers = pd.Series(ret_frequency_column).array\n",
    "    ret_y_markers = ret_y_markers.astype(int)\n",
    "    \n",
    "    fig.add_trace(go.Scatter(x = ret_x_markers, y = ret_y_markers, mode = 'lines+markers', name = 'Returning Users'))\n",
    "    \n",
    "    fig.show()\n",
    "    \n",
    "else:\n",
    "    df = pd.DataFrame(data, columns = column_headers)\n",
    "    result_path = os.path.join(folder_path, file_name + \"_graph-\" + dt.strftime(\"%d %b, %Y\") + \" - \" + ds.strftime(\"%d %b, %Y\") + \".csv\")\n",
    "    df.to_csv(result_path, encoding='utf-8', index=False)    \n",
    "    df.astype({'Frequency': 'int32'}).dtypes\n",
    "    \n",
    "    fig = None\n",
    "\n",
    "    if update_interval.value == \"Daily\":\n",
    "        fig = px.line(df, x = \"Day\", y = \"Frequency\", render_mode = \"auto\", labels = {\"Day\": \"Date\",\"Frequency\": \"Frequency\"},\n",
    "            title = update_interval.value + \" Chart for '\" + feature.value + \"': \" + dt.strftime(\"%d %b, %Y\") + \" - \" + ds.strftime(\"%d %b, %Y\"))\n",
    "    if update_interval.value == \"Weekly\":\n",
    "        fig = px.line(df, x = \"Week\", y = \"Frequency\", render_mode = \"auto\", labels = {\"Day\": \"Week\",\"Frequency\": \"Frequency\"},\n",
    "            title = update_interval.value + \" Chart for '\" + feature.value + \"': \" + dt.strftime(\"%d %b, %Y\") + \" - \" + ds.strftime(\"%d %b, %Y\"))\n",
    "    if update_interval.value == \"Monthly\":\n",
    "        fig = px.line(df, x = \"Month\", y = \"Frequency\", render_mode = \"auto\", labels = {\"Day\": \"Month\",\"Frequency\": \"Frequency\"},\n",
    "            title = update_interval.value + \" Chart for '\" + feature.value + \"': \" + dt.strftime(\"%d %b, %Y\") + \" - \" + ds.strftime(\"%d %b, %Y\"))\n",
    "\n",
    "    fig.show()\n",
    "\n"
   ]
  },
  {
   "cell_type": "markdown",
   "id": "d426a671",
   "metadata": {},
   "source": [
    "# --------------------------------------------------------------------------------------------------"
   ]
  },
  {
   "cell_type": "code",
   "execution_count": null,
   "id": "6e94faec",
   "metadata": {},
   "outputs": [],
   "source": []
  },
  {
   "cell_type": "code",
   "execution_count": null,
   "id": "db55b4c1",
   "metadata": {},
   "outputs": [],
   "source": []
  },
  {
   "cell_type": "code",
   "execution_count": null,
   "id": "89ca3fef",
   "metadata": {},
   "outputs": [],
   "source": []
  },
  {
   "cell_type": "code",
   "execution_count": null,
   "id": "f8bfe337",
   "metadata": {},
   "outputs": [],
   "source": []
  },
  {
   "cell_type": "code",
   "execution_count": null,
   "id": "ebf19849",
   "metadata": {},
   "outputs": [],
   "source": []
  },
  {
   "cell_type": "code",
   "execution_count": null,
   "id": "e3896226",
   "metadata": {},
   "outputs": [],
   "source": []
  },
  {
   "cell_type": "code",
   "execution_count": 8,
   "id": "8a113266",
   "metadata": {},
   "outputs": [],
   "source": [
    "# Date format in 'YYYY-MM-DD'\n",
    "# You can also use relative dates for simplicity\n",
    "# start_date = \"50daysAgo\"\n",
    "# end_date = \"today\"\n",
    "# end_date = \"yesterday\"\n",
    "start_date = \"2021-01-23\"\n",
    "end_date = \"2021-04-23\""
   ]
  },
  {
   "cell_type": "markdown",
   "id": "f97c5953",
   "metadata": {},
   "source": [
    "### Get a report of all the events that occured with a status of either \"success\" or \"error\" within a given time frame"
   ]
  },
  {
   "cell_type": "code",
   "execution_count": 10,
   "id": "74a75e66",
   "metadata": {},
   "outputs": [],
   "source": [
    "query = {\n",
    "    'reportRequests': [\n",
    "    {\n",
    "        'viewId': VIEW_ID,\n",
    "        'dateRanges': [{'startDate': start_date, 'endDate': end_date}],\n",
    "        'metrics': [{'expression': 'ga:totalEvents'}],\n",
    "        'dimensions': [{'name': 'ga:eventCategory'}, {'name': 'ga:eventAction'}]\n",
    "    }]\n",
    "}\n",
    "\n",
    "response = get_report(analytics, query)\n",
    "response_rows = response[\"reports\"][0][\"data\"][\"rows\"]\n",
    "both_data, success_data, error_data = [], [], []\n",
    "\n",
    "for res in response_rows:\n",
    "    both_cell_data = [res[\"dimensions\"][0], res[\"dimensions\"][1], res[\"metrics\"][0][\"values\"][0]]\n",
    "    both_data.append(both_cell_data)\n",
    "    if res[\"dimensions\"][0] == \"Success\":\n",
    "        success_cell_data = [res[\"dimensions\"][1], res[\"metrics\"][0][\"values\"][0]]\n",
    "        success_data.append(success_cell_data)\n",
    "    if res[\"dimensions\"][0] == \"Error\":\n",
    "        error_cell_data = [res[\"dimensions\"][1], res[\"metrics\"][0][\"values\"][0]]\n",
    "        error_data.append(error_cell_data)\n",
    "\n",
    "folder_path = os.path.join(\"result_csv\", \"status_count\")\n",
    "Path(folder_path).mkdir(parents=True, exist_ok=True)\n",
    "        \n",
    "df = pd.DataFrame(both_data, columns = ['Status', 'Action', 'Values'])\n",
    "result_path = os.path.join(folder_path, \"Both-\" + start_date + \"_\" + end_date + \".csv\")\n",
    "df.to_csv(result_path, encoding='utf-8', index=False)\n",
    "\n",
    "df = pd.DataFrame(success_data, columns = ['Action', 'Values'])\n",
    "result_path = os.path.join(folder_path, \"Success-\" + start_date + \"_\" + end_date + \".csv\")\n",
    "df.to_csv(result_path, encoding='utf-8', index=False)\n",
    "\n",
    "df = pd.DataFrame(error_data, columns = ['Action', 'Values'])\n",
    "result_path = os.path.join(folder_path, \"Error-\" + start_date + \"_\" + end_date + \".csv\")\n",
    "df.to_csv(result_path, encoding='utf-8', index=False)"
   ]
  },
  {
   "cell_type": "markdown",
   "id": "83c4d5b6",
   "metadata": {},
   "source": [
    "### Get a report of all app launches within a given time frame"
   ]
  },
  {
   "cell_type": "code",
   "execution_count": 11,
   "id": "a3784a3f",
   "metadata": {},
   "outputs": [],
   "source": [
    "query = {\n",
    "    'reportRequests': [\n",
    "    {\n",
    "        'viewId': VIEW_ID,\n",
    "        'dateRanges': [{'startDate': start_date, 'endDate': end_date}],\n",
    "        'metrics': [{'expression': 'ga:totalEvents'}],\n",
    "        'dimensions': [{'name': 'ga:eventAction'}, {'name': 'ga:eventLabel'}]\n",
    "    }]\n",
    "}\n",
    "\n",
    "response = get_report(analytics, query)\n",
    "response_rows = response[\"reports\"][0][\"data\"][\"rows\"]\n",
    "app_launch_os, app_launch_soda = [], []\n",
    "\n",
    "for res in response_rows:\n",
    "    if res[\"dimensions\"][0] == \"App Launched - OS\":\n",
    "        app_launch_os_cell_data = [res[\"dimensions\"][1], res[\"metrics\"][0][\"values\"][0]]\n",
    "        app_launch_os.append(app_launch_os_cell_data)\n",
    "    if res[\"dimensions\"][0] == \"App Launched - SODA\":\n",
    "        app_launch_soda_cell_data = [res[\"dimensions\"][1], res[\"metrics\"][0][\"values\"][0]]\n",
    "        app_launch_soda.append(app_launch_soda_cell_data)\n",
    "\n",
    "folder_path = os.path.join(\"result_csv\", \"app_launched\")\n",
    "Path(folder_path).mkdir(parents=True, exist_ok=True)\n",
    "        \n",
    "df = pd.DataFrame(app_launch_os, columns = ['OS', 'Values'])\n",
    "result_path = os.path.join(folder_path, \"os-\" + start_date + \"_\" + end_date + \".csv\")\n",
    "df.to_csv(result_path, encoding='utf-8', index=False)\n",
    "\n",
    "df = pd.DataFrame(app_launch_soda, columns = ['SODA Version', 'Values'])\n",
    "result_path = os.path.join(folder_path, \"soda_version-\" + start_date + \"_\" + end_date + \".csv\")\n",
    "df.to_csv(result_path, encoding='utf-8', index=False)"
   ]
  },
  {
   "cell_type": "markdown",
   "id": "2ed54b26",
   "metadata": {},
   "source": [
    "### Get a report of all unique users within a given time frame"
   ]
  },
  {
   "cell_type": "code",
   "execution_count": 12,
   "id": "1d290189",
   "metadata": {},
   "outputs": [],
   "source": [
    "query = {\n",
    "    'reportRequests': [\n",
    "    {\n",
    "        'viewId': VIEW_ID,\n",
    "        'dateRanges': [{'startDate': start_date, 'endDate': end_date}],\n",
    "        'metrics': [{'expression': 'ga:users'}],\n",
    "        'dimensions': [{'name': 'ga:userType'}]\n",
    "    }]\n",
    "}\n",
    "\n",
    "response = get_report(analytics, query)\n",
    "response_rows = response[\"reports\"][0][\"data\"][\"rows\"]\n",
    "data = []\n",
    "\n",
    "for res in response_rows:\n",
    "    cell_data = [res[\"dimensions\"][0], res[\"metrics\"][0][\"values\"][0]]\n",
    "    data.append(cell_data)\n",
    "    \n",
    "folder_path = os.path.join(\"result_csv\", \"users\")\n",
    "Path(folder_path).mkdir(parents=True, exist_ok=True)\n",
    "        \n",
    "df = pd.DataFrame(data, columns = ['Type', 'Values'])\n",
    "result_path = os.path.join(folder_path, \"users-\" + start_date + \"_\" + end_date + \".csv\")\n",
    "df.to_csv(result_path, encoding='utf-8', index=False)"
   ]
  },
  {
   "cell_type": "markdown",
   "id": "35b236a0",
   "metadata": {},
   "source": [
    "### Get a report of all dataset names for a specific action for a given time frame"
   ]
  },
  {
   "cell_type": "code",
   "execution_count": 13,
   "id": "9b00a7e1",
   "metadata": {},
   "outputs": [],
   "source": [
    "def number_of_actions(start_date, end_date, category, action):\n",
    "    query = {\n",
    "        'reportRequests': [\n",
    "        {\n",
    "            'viewId': VIEW_ID,\n",
    "            'dateRanges': [{'startDate': start_date, 'endDate': end_date}],\n",
    "            'metrics': [{'expression': 'ga:totalEvents'}],\n",
    "            'dimensions': [{'name': 'ga:eventCategory'}, {'name': 'ga:eventAction'}, {'name': 'ga:eventLabel'}]\n",
    "        }]\n",
    "    }\n",
    "    response = get_report(analytics, query)\n",
    "    response_rows = response[\"reports\"][0][\"data\"][\"rows\"]\n",
    "    data = []\n",
    "\n",
    "    for res in response_rows:\n",
    "        if res[\"dimensions\"][0] == category:\n",
    "            if res[\"dimensions\"][1] == action:\n",
    "                cell_data = [res[\"dimensions\"][2], res[\"metrics\"][0][\"values\"][0]]\n",
    "                data.append(cell_data)\n",
    "        \n",
    "    folder_path = os.path.join(\"result_csv\", \"custom\")\n",
    "    Path(folder_path).mkdir(parents=True, exist_ok=True)\n",
    "\n",
    "    df = pd.DataFrame(data, columns = ['Dataset_name', 'Values'])\n",
    "    result_path = os.path.join(folder_path, action + \"-\" + start_date + \"_\" + end_date + \".csv\")\n",
    "    df.to_csv(result_path, encoding='utf-8', index=False)\n",
    "    return\n",
    "\n",
    "## useful for getting the names of datasets where an action is applicable\n",
    "## all responses go to the custom folder\n",
    "# number_of_actions(start_date, end_date, <type>, <action_name>)\n",
    "number_of_actions(start_date, end_date, \"Success\", \"Manage Dataset - Create Empty Dataset\")"
   ]
  },
  {
   "cell_type": "markdown",
   "id": "fc051234",
   "metadata": {},
   "source": [
    "### Get a report of all actions done on a specific dataset for a given time frame"
   ]
  },
  {
   "cell_type": "code",
   "execution_count": 14,
   "id": "9b56843d",
   "metadata": {},
   "outputs": [],
   "source": [
    "def dataset_actions(start_date, end_date, dataset_name):\n",
    "    query = {\n",
    "        'reportRequests': [\n",
    "        {\n",
    "            'viewId': VIEW_ID,\n",
    "            'dateRanges': [{'startDate': start_date, 'endDate': end_date}],\n",
    "            'metrics': [{'expression': 'ga:totalEvents'}],\n",
    "            'dimensions': [{'name': 'ga:eventCategory'}, {'name': 'ga:eventAction'}, {'name': 'ga:eventLabel'}]\n",
    "        }]\n",
    "    }\n",
    "    response = get_report(analytics, query)\n",
    "    response_rows = response[\"reports\"][0][\"data\"][\"rows\"]\n",
    "    data = []\n",
    "\n",
    "    for res in response_rows:\n",
    "        if res[\"dimensions\"][2].find(dataset_name) != -1 or res[\"dimensions\"][1].find(dataset_name) != -1:\n",
    "            cell_data = [res[\"dimensions\"][0], res[\"dimensions\"][1], res[\"metrics\"][0][\"values\"][0]]\n",
    "            data.append(cell_data)\n",
    "        \n",
    "    folder_path = os.path.join(\"result_csv\", \"custom\")\n",
    "    Path(folder_path).mkdir(parents=True, exist_ok=True)\n",
    "\n",
    "    df = pd.DataFrame(data, columns = ['Status', 'Action', 'Values'])\n",
    "    result_path = os.path.join(folder_path, dataset_name + \"(actions)-\" + start_date + \"_\" + end_date + \".csv\")\n",
    "    df.to_csv(result_path, encoding='utf-8', index=False)\n",
    "    return\n",
    "\n",
    "## useful for getting all the actions for a specific dataset\n",
    "## all responses go to the custom folder\n",
    "# dataset_actions(start_date, end_date, <Dataset_name>)\n",
    "dataset_actions(start_date, end_date, \"test-ps-SODA\")"
   ]
  },
  {
   "cell_type": "markdown",
   "id": "95e007fb",
   "metadata": {},
   "source": [
    "### Get the number of files and the size of all datasets that was uploaded through SODA for a given time frame"
   ]
  },
  {
   "cell_type": "code",
   "execution_count": 15,
   "id": "63247c5a",
   "metadata": {},
   "outputs": [],
   "source": [
    "def dataset_statistics(start_date, end_date):\n",
    "            \n",
    "    query = {\n",
    "        'reportRequests': [\n",
    "        {\n",
    "            'viewId': VIEW_ID,\n",
    "            'dateRanges': [{'startDate': start_date, 'endDate': end_date}],\n",
    "            'metrics': [{'expression': 'ga:uniqueEvents'}],\n",
    "            'dimensions': [{'name': 'ga:eventCategory'}, {'name': 'ga:eventAction'}, {'name': 'ga:eventLabel'}]\n",
    "        }]\n",
    "    }\n",
    "    response = get_report(analytics, query)\n",
    "    response_rows = response[\"reports\"][0][\"data\"][\"rows\"]\n",
    "    \n",
    "    for res in response_rows:\n",
    "#         print(res)\n",
    "        if res[\"dimensions\"][1] == \"Upload Local Dataset - Number of Files\":\n",
    "            cell_data = [res[\"dimensions\"][0], res[\"dimensions\"][2], 0]\n",
    "            data.append(cell_data)\n",
    "        if res[\"dimensions\"][1] == \"Upload Local Dataset - size\":\n",
    "            cell_data = [res[\"dimensions\"][0], 0, res[\"dimensions\"][2]]\n",
    "            data.append(cell_data)\n",
    "        if res[\"dimensions\"][1] == \"Generate Dataset - Number of Files\":\n",
    "            cell_data = [res[\"dimensions\"][0], res[\"dimensions\"][2], 0]\n",
    "            data.append(cell_data)\n",
    "        if res[\"dimensions\"][1] == \"Generate Dataset - Size\":\n",
    "            cell_data = [res[\"dimensions\"][0], 0, res[\"dimensions\"][2]]\n",
    "            data.append(cell_data)\n",
    "        \n",
    "    folder_path = os.path.join(\"result_csv\", \"custom\")\n",
    "    Path(folder_path).mkdir(parents=True, exist_ok=True)\n",
    "\n",
    "    df = pd.DataFrame(data, columns = ['Status', 'Number of Files', 'Size in (bytes)'])\n",
    "    result_path = os.path.join(folder_path, \"dataset_statistics-\" + start_date + \"_\" + end_date + \".csv\")\n",
    "    df.to_csv(result_path, encoding='utf-8', index=False)\n",
    "    return\n",
    "\n",
    "## useful for getting all details for upload to Pennsieve for a specific time period\n",
    "## all responses go to the custom folder\n",
    "# num_of_files_folders_in_dataset(start_date, end_date)\n",
    "dataset_statistics(start_date, end_date)"
   ]
  },
  {
   "cell_type": "markdown",
   "id": "62ae84ae",
   "metadata": {},
   "source": [
    "### Get the number of files and the size of a specific dataset that was uploaded through SODA"
   ]
  },
  {
   "cell_type": "code",
   "execution_count": 16,
   "id": "5f7f686b",
   "metadata": {},
   "outputs": [],
   "source": [
    "def num_of_files_folders_in_dataset(start_date, end_date, dataset_name):\n",
    "    query = {\n",
    "        'reportRequests': [\n",
    "        {\n",
    "            'viewId': VIEW_ID,\n",
    "            'dateRanges': [{'startDate': start_date, 'endDate': end_date}],\n",
    "            'metrics': [{'expression': 'ga:totalEvents'}],\n",
    "            'dimensions': [{'name': 'ga:eventCategory'}, {'name': 'ga:eventAction'}, {'name': 'ga:eventLabel'}]\n",
    "        }]\n",
    "    }\n",
    "    response = get_report(analytics, query)\n",
    "    response_rows = response[\"reports\"][0][\"data\"][\"rows\"]\n",
    "    data = []\n",
    "    \n",
    "    for res in response_rows:\n",
    "        if res[\"dimensions\"][1].find(\"Upload Local Dataset\") != -1:\n",
    "            if res[\"dimensions\"][1].find(dataset_name) != -1:\n",
    "                if res[\"dimensions\"][1].find('Number of Files') != -1:\n",
    "                    cell_data = [res[\"dimensions\"][0], res[\"dimensions\"][2], 0]\n",
    "                    data.append(cell_data)\n",
    "                if res[\"dimensions\"][1].find('- size') != -1:\n",
    "                    cell_data = [res[\"dimensions\"][0], 0, res[\"dimensions\"][2]]\n",
    "                    data.append(cell_data)\n",
    "            \n",
    "    query = {\n",
    "        'reportRequests': [\n",
    "        {\n",
    "            'viewId': VIEW_ID,\n",
    "            'dateRanges': [{'startDate': start_date, 'endDate': end_date}],\n",
    "            'metrics': [{'expression': 'ga:eventValue'}],\n",
    "            'dimensions': [{'name': 'ga:eventCategory'}, {'name': 'ga:eventAction'}, {'name': 'ga:eventLabel'}]\n",
    "        }]\n",
    "    }\n",
    "    response = get_report(analytics, query)\n",
    "    response_rows = response[\"reports\"][0][\"data\"][\"rows\"]\n",
    "    res[\"metrics\"][0][\"values\"][0]\n",
    "    for res in response_rows:\n",
    "        if res[\"dimensions\"][1].find(\"Generate Dataset\") != -1:\n",
    "            if res[\"dimensions\"][2].find(dataset_name) != -1:\n",
    "                if res[\"dimensions\"][1] == 'Generate Dataset - Number of Files':\n",
    "                    cell_data = [res[\"dimensions\"][0], res[\"metrics\"][0][\"values\"][0], 0]\n",
    "                    data.append(cell_data)\n",
    "                if res[\"dimensions\"][1] == 'Generate Dataset - Size':\n",
    "                    cell_data = [res[\"dimensions\"][0], 0, res[\"metrics\"][0][\"values\"][0]]\n",
    "                    data.append(cell_data)\n",
    "                \n",
    "                    \n",
    "    folder_path = os.path.join(\"result_csv\", \"custom\")\n",
    "    Path(folder_path).mkdir(parents=True, exist_ok=True)\n",
    "\n",
    "    df = pd.DataFrame(data, columns = ['Status', 'Number of Files', 'Size in (bytes)'])\n",
    "    result_path = os.path.join(folder_path, dataset_name + \"(details)-\" + start_date + \"_\" + end_date + \".csv\")\n",
    "    df.to_csv(result_path, encoding='utf-8', index=False)\n",
    "    return\n",
    "\n",
    "## useful for getting all the number of files and size for a specific dataset\n",
    "## all responses go to the custom folder\n",
    "# num_of_files_folders_in_dataset(start_date, end_date, <Dataset_name>)\n",
    "num_of_files_folders_in_dataset(start_date, end_date, \"test-ps-SODA\")"
   ]
  },
  {
   "cell_type": "code",
   "execution_count": null,
   "id": "0bd2360d",
   "metadata": {},
   "outputs": [],
   "source": []
  }
 ],
 "metadata": {
  "kernelspec": {
   "display_name": "Python 3",
   "language": "python",
   "name": "python3"
  },
  "language_info": {
   "codemirror_mode": {
    "name": "ipython",
    "version": 3
   },
   "file_extension": ".py",
   "mimetype": "text/x-python",
   "name": "python",
   "nbconvert_exporter": "python",
   "pygments_lexer": "ipython3",
   "version": "3.6.13"
  }
 },
 "nbformat": 4,
 "nbformat_minor": 5
}
