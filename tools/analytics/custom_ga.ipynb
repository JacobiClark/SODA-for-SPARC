{
 "cells": [
  {
   "cell_type": "markdown",
   "metadata": {},
   "source": [
    "# Pre-requisite installations if needed"
   ]
  },
  {
   "cell_type": "code",
   "execution_count": null,
   "metadata": {},
   "outputs": [],
   "source": [
    "!pip install oauth2client"
   ]
  },
  {
   "cell_type": "code",
   "execution_count": null,
   "metadata": {},
   "outputs": [],
   "source": [
    "!pip install google-api-python-client"
   ]
  },
  {
   "cell_type": "code",
   "execution_count": null,
   "metadata": {},
   "outputs": [],
   "source": [
    "!pip install ipywidgets"
   ]
  },
  {
   "cell_type": "markdown",
   "metadata": {},
   "source": [
    "# ------------"
   ]
  },
  {
   "cell_type": "code",
   "execution_count": 30,
   "metadata": {},
   "outputs": [],
   "source": [
    "import argparse\n",
    "import pandas as pd\n",
    "import json\n",
    "import os\n",
    "import ipywidgets as widgets\n",
    "from pathlib import Path\n",
    "from datetime import datetime, timedelta\n",
    "\n",
    "from apiclient.discovery import build\n",
    "from oauth2client.service_account import ServiceAccountCredentials\n",
    "\n",
    "import httplib2\n",
    "from oauth2client import client\n",
    "from oauth2client import file\n",
    "from oauth2client import tools\n",
    "from helper_functions import initialize_analyticsreporting, get_report, print_response, VIEW_ID\n",
    "\n",
    "analytics = initialize_analyticsreporting()"
   ]
  },
  {
   "cell_type": "code",
   "execution_count": 31,
   "metadata": {},
   "outputs": [
    {
     "data": {
      "application/vnd.jupyter.widget-view+json": {
       "model_id": "efa1425940dd4b079baf4be422a3e7ae",
       "version_major": 2,
       "version_minor": 0
      },
      "text/plain": [
       "Dropdown(description='Option:', options=('1', '2', '3'), value='1')"
      ]
     },
     "metadata": {},
     "output_type": "display_data"
    },
    {
     "data": {
      "application/vnd.jupyter.widget-view+json": {
       "model_id": "1f64992baf4d43f490c072bcf31212b8",
       "version_major": 2,
       "version_minor": 0
      },
      "text/plain": [
       "DatePicker(value=None, description='Start Date:')"
      ]
     },
     "metadata": {},
     "output_type": "display_data"
    },
    {
     "data": {
      "application/vnd.jupyter.widget-view+json": {
       "model_id": "36dd3e1af5764d299b8789b46853f0dd",
       "version_major": 2,
       "version_minor": 0
      },
      "text/plain": [
       "DatePicker(value=None, description='End Date:')"
      ]
     },
     "metadata": {},
     "output_type": "display_data"
    },
    {
     "data": {
      "application/vnd.jupyter.widget-view+json": {
       "model_id": "41fa127741424e289bccb294317b1f08",
       "version_major": 2,
       "version_minor": 0
      },
      "text/plain": [
       "Dropdown(description='Update Interval:', options=('Daily', 'Weekly', 'Monthly', 'Yearly'), value='Daily')"
      ]
     },
     "metadata": {},
     "output_type": "display_data"
    }
   ],
   "source": [
    "feature = widgets.Dropdown(\n",
    "    options=['1', '2', '3'],\n",
    "    value='1',\n",
    "    description='Option:',\n",
    "    disabled=False,\n",
    ")\n",
    "\n",
    "start_date = widgets.DatePicker(description='Start Date:', disabled=False)\n",
    "end_date = widgets.DatePicker(description='End Date:', disabled=False)\n",
    "\n",
    "update_interval = widgets.Dropdown(options=['Daily', 'Weekly', 'Monthly', 'Yearly'], description='Update Interval:', disabled=False)\n",
    "\n",
    "display(feature, start_date, end_date, update_interval)"
   ]
  },
  {
   "cell_type": "code",
   "execution_count": 37,
   "metadata": {},
   "outputs": [
    {
     "name": "stdout",
     "output_type": "stream",
     "text": [
      "2021-01-11 2021-01-17\n",
      "2021-01-18 2021-01-24\n",
      "2021-01-25 2021-01-31\n",
      "2021-02-01 2021-02-07\n",
      "2021-02-08 2021-02-14\n",
      "2021-02-15 2021-02-21\n",
      "2021-02-22 2021-02-28\n",
      "2021-03-01 2021-03-07\n",
      "2021-03-08 2021-03-14\n",
      "2021-03-15 2021-03-21\n",
      "2021-03-22 2021-03-28\n",
      "2021-03-29 2021-04-04\n",
      "2021-04-05 2021-04-11\n",
      "2021-04-12 2021-04-18\n",
      "2021-04-19 2021-04-25\n",
      "2021-04-26 2021-05-02\n",
      "2021-05-03 2021-05-09\n",
      "2021-05-10 2021-05-16\n",
      "2021-05-17 2021-05-23\n",
      "2021-05-24 2021-05-30\n",
      "2021-05-31 2021-06-06\n",
      "2021-06-07 2021-06-13\n",
      "2021-06-14 2021-06-20\n",
      "2021-06-21 2021-06-27\n",
      "2021-06-28 2021-07-04\n"
     ]
    }
   ],
   "source": [
    "dt = start_date.value\n",
    "ds = end_date.value\n",
    "start = dt - timedelta(days=dt.weekday())\n",
    "end = start + timedelta(days=6)\n",
    "while start <= ds:\n",
    "    print(start, end)\n",
    "    start = start + timedelta(days=7)\n",
    "    end = start + timedelta(days=6)"
   ]
  },
  {
   "cell_type": "code",
   "execution_count": null,
   "metadata": {},
   "outputs": [],
   "source": []
  },
  {
   "cell_type": "code",
   "execution_count": null,
   "metadata": {},
   "outputs": [],
   "source": []
  },
  {
   "cell_type": "code",
   "execution_count": null,
   "metadata": {},
   "outputs": [],
   "source": []
  },
  {
   "cell_type": "code",
   "execution_count": null,
   "metadata": {},
   "outputs": [],
   "source": []
  },
  {
   "cell_type": "code",
   "execution_count": null,
   "metadata": {},
   "outputs": [],
   "source": []
  },
  {
   "cell_type": "code",
   "execution_count": null,
   "metadata": {},
   "outputs": [],
   "source": []
  },
  {
   "cell_type": "code",
   "execution_count": null,
   "metadata": {},
   "outputs": [],
   "source": []
  },
  {
   "cell_type": "code",
   "execution_count": null,
   "metadata": {},
   "outputs": [],
   "source": []
  },
  {
   "cell_type": "code",
   "execution_count": 8,
   "metadata": {},
   "outputs": [],
   "source": [
    "# Date format in 'YYYY-MM-DD'\n",
    "# You can also use relative dates for simplicity\n",
    "# start_date = \"50daysAgo\"\n",
    "# end_date = \"today\"\n",
    "# end_date = \"yesterday\"\n",
    "start_date = \"2021-01-23\"\n",
    "end_date = \"2021-04-23\""
   ]
  },
  {
   "cell_type": "markdown",
   "metadata": {},
   "source": [
    "### Get a report of all the events that occured with a status of either \"success\" or \"error\" within a given time frame"
   ]
  },
  {
   "cell_type": "code",
   "execution_count": 10,
   "metadata": {},
   "outputs": [],
   "source": [
    "query = {\n",
    "    'reportRequests': [\n",
    "    {\n",
    "        'viewId': VIEW_ID,\n",
    "        'dateRanges': [{'startDate': start_date, 'endDate': end_date}],\n",
    "        'metrics': [{'expression': 'ga:totalEvents'}],\n",
    "        'dimensions': [{'name': 'ga:eventCategory'}, {'name': 'ga:eventAction'}]\n",
    "    }]\n",
    "}\n",
    "\n",
    "response = get_report(analytics, query)\n",
    "response_rows = response[\"reports\"][0][\"data\"][\"rows\"]\n",
    "both_data, success_data, error_data = [], [], []\n",
    "\n",
    "for res in response_rows:\n",
    "    both_cell_data = [res[\"dimensions\"][0], res[\"dimensions\"][1], res[\"metrics\"][0][\"values\"][0]]\n",
    "    both_data.append(both_cell_data)\n",
    "    if res[\"dimensions\"][0] == \"Success\":\n",
    "        success_cell_data = [res[\"dimensions\"][1], res[\"metrics\"][0][\"values\"][0]]\n",
    "        success_data.append(success_cell_data)\n",
    "    if res[\"dimensions\"][0] == \"Error\":\n",
    "        error_cell_data = [res[\"dimensions\"][1], res[\"metrics\"][0][\"values\"][0]]\n",
    "        error_data.append(error_cell_data)\n",
    "\n",
    "folder_path = os.path.join(\"result_csv\", \"status_count\")\n",
    "Path(folder_path).mkdir(parents=True, exist_ok=True)\n",
    "        \n",
    "df = pd.DataFrame(both_data, columns = ['Status', 'Action', 'Values'])\n",
    "result_path = os.path.join(folder_path, \"Both-\" + start_date + \"_\" + end_date + \".csv\")\n",
    "df.to_csv(result_path, encoding='utf-8', index=False)\n",
    "\n",
    "df = pd.DataFrame(success_data, columns = ['Action', 'Values'])\n",
    "result_path = os.path.join(folder_path, \"Success-\" + start_date + \"_\" + end_date + \".csv\")\n",
    "df.to_csv(result_path, encoding='utf-8', index=False)\n",
    "\n",
    "df = pd.DataFrame(error_data, columns = ['Action', 'Values'])\n",
    "result_path = os.path.join(folder_path, \"Error-\" + start_date + \"_\" + end_date + \".csv\")\n",
    "df.to_csv(result_path, encoding='utf-8', index=False)"
   ]
  },
  {
   "cell_type": "markdown",
   "metadata": {},
   "source": [
    "### Get a report of all app launches within a given time frame"
   ]
  },
  {
   "cell_type": "code",
   "execution_count": 11,
   "metadata": {},
   "outputs": [],
   "source": [
    "query = {\n",
    "    'reportRequests': [\n",
    "    {\n",
    "        'viewId': VIEW_ID,\n",
    "        'dateRanges': [{'startDate': start_date, 'endDate': end_date}],\n",
    "        'metrics': [{'expression': 'ga:totalEvents'}],\n",
    "        'dimensions': [{'name': 'ga:eventAction'}, {'name': 'ga:eventLabel'}]\n",
    "    }]\n",
    "}\n",
    "\n",
    "response = get_report(analytics, query)\n",
    "response_rows = response[\"reports\"][0][\"data\"][\"rows\"]\n",
    "app_launch_os, app_launch_soda = [], []\n",
    "\n",
    "for res in response_rows:\n",
    "    if res[\"dimensions\"][0] == \"App Launched - OS\":\n",
    "        app_launch_os_cell_data = [res[\"dimensions\"][1], res[\"metrics\"][0][\"values\"][0]]\n",
    "        app_launch_os.append(app_launch_os_cell_data)\n",
    "    if res[\"dimensions\"][0] == \"App Launched - SODA\":\n",
    "        app_launch_soda_cell_data = [res[\"dimensions\"][1], res[\"metrics\"][0][\"values\"][0]]\n",
    "        app_launch_soda.append(app_launch_soda_cell_data)\n",
    "\n",
    "folder_path = os.path.join(\"result_csv\", \"app_launched\")\n",
    "Path(folder_path).mkdir(parents=True, exist_ok=True)\n",
    "        \n",
    "df = pd.DataFrame(app_launch_os, columns = ['OS', 'Values'])\n",
    "result_path = os.path.join(folder_path, \"os-\" + start_date + \"_\" + end_date + \".csv\")\n",
    "df.to_csv(result_path, encoding='utf-8', index=False)\n",
    "\n",
    "df = pd.DataFrame(app_launch_soda, columns = ['SODA Version', 'Values'])\n",
    "result_path = os.path.join(folder_path, \"soda_version-\" + start_date + \"_\" + end_date + \".csv\")\n",
    "df.to_csv(result_path, encoding='utf-8', index=False)"
   ]
  },
  {
   "cell_type": "markdown",
   "metadata": {},
   "source": [
    "### Get a report of all unique users within a given time frame"
   ]
  },
  {
   "cell_type": "code",
   "execution_count": 12,
   "metadata": {},
   "outputs": [],
   "source": [
    "query = {\n",
    "    'reportRequests': [\n",
    "    {\n",
    "        'viewId': VIEW_ID,\n",
    "        'dateRanges': [{'startDate': start_date, 'endDate': end_date}],\n",
    "        'metrics': [{'expression': 'ga:users'}],\n",
    "        'dimensions': [{'name': 'ga:userType'}]\n",
    "    }]\n",
    "}\n",
    "\n",
    "response = get_report(analytics, query)\n",
    "response_rows = response[\"reports\"][0][\"data\"][\"rows\"]\n",
    "data = []\n",
    "\n",
    "for res in response_rows:\n",
    "    cell_data = [res[\"dimensions\"][0], res[\"metrics\"][0][\"values\"][0]]\n",
    "    data.append(cell_data)\n",
    "    \n",
    "folder_path = os.path.join(\"result_csv\", \"users\")\n",
    "Path(folder_path).mkdir(parents=True, exist_ok=True)\n",
    "        \n",
    "df = pd.DataFrame(data, columns = ['Type', 'Values'])\n",
    "result_path = os.path.join(folder_path, \"users-\" + start_date + \"_\" + end_date + \".csv\")\n",
    "df.to_csv(result_path, encoding='utf-8', index=False)"
   ]
  },
  {
   "cell_type": "markdown",
   "metadata": {},
   "source": [
    "### Get a report of all dataset names for a specific action for a given time frame"
   ]
  },
  {
   "cell_type": "code",
   "execution_count": 13,
   "metadata": {},
   "outputs": [],
   "source": [
    "def number_of_actions(start_date, end_date, category, action):\n",
    "    query = {\n",
    "        'reportRequests': [\n",
    "        {\n",
    "            'viewId': VIEW_ID,\n",
    "            'dateRanges': [{'startDate': start_date, 'endDate': end_date}],\n",
    "            'metrics': [{'expression': 'ga:totalEvents'}],\n",
    "            'dimensions': [{'name': 'ga:eventCategory'}, {'name': 'ga:eventAction'}, {'name': 'ga:eventLabel'}]\n",
    "        }]\n",
    "    }\n",
    "    response = get_report(analytics, query)\n",
    "    response_rows = response[\"reports\"][0][\"data\"][\"rows\"]\n",
    "    data = []\n",
    "\n",
    "    for res in response_rows:\n",
    "        if res[\"dimensions\"][0] == category:\n",
    "            if res[\"dimensions\"][1] == action:\n",
    "                cell_data = [res[\"dimensions\"][2], res[\"metrics\"][0][\"values\"][0]]\n",
    "                data.append(cell_data)\n",
    "        \n",
    "    folder_path = os.path.join(\"result_csv\", \"custom\")\n",
    "    Path(folder_path).mkdir(parents=True, exist_ok=True)\n",
    "\n",
    "    df = pd.DataFrame(data, columns = ['Dataset_name', 'Values'])\n",
    "    result_path = os.path.join(folder_path, action + \"-\" + start_date + \"_\" + end_date + \".csv\")\n",
    "    df.to_csv(result_path, encoding='utf-8', index=False)\n",
    "    return\n",
    "\n",
    "## useful for getting the names of datasets where an action is applicable\n",
    "## all responses go to the custom folder\n",
    "# number_of_actions(start_date, end_date, <type>, <action_name>)\n",
    "number_of_actions(start_date, end_date, \"Success\", \"Manage Dataset - Create Empty Dataset\")"
   ]
  },
  {
   "cell_type": "markdown",
   "metadata": {},
   "source": [
    "### Get a report of all actions done on a specific dataset for a given time frame"
   ]
  },
  {
   "cell_type": "code",
   "execution_count": 14,
   "metadata": {},
   "outputs": [],
   "source": [
    "def dataset_actions(start_date, end_date, dataset_name):\n",
    "    query = {\n",
    "        'reportRequests': [\n",
    "        {\n",
    "            'viewId': VIEW_ID,\n",
    "            'dateRanges': [{'startDate': start_date, 'endDate': end_date}],\n",
    "            'metrics': [{'expression': 'ga:totalEvents'}],\n",
    "            'dimensions': [{'name': 'ga:eventCategory'}, {'name': 'ga:eventAction'}, {'name': 'ga:eventLabel'}]\n",
    "        }]\n",
    "    }\n",
    "    response = get_report(analytics, query)\n",
    "    response_rows = response[\"reports\"][0][\"data\"][\"rows\"]\n",
    "    data = []\n",
    "\n",
    "    for res in response_rows:\n",
    "        if res[\"dimensions\"][2].find(dataset_name) != -1 or res[\"dimensions\"][1].find(dataset_name) != -1:\n",
    "            cell_data = [res[\"dimensions\"][0], res[\"dimensions\"][1], res[\"metrics\"][0][\"values\"][0]]\n",
    "            data.append(cell_data)\n",
    "        \n",
    "    folder_path = os.path.join(\"result_csv\", \"custom\")\n",
    "    Path(folder_path).mkdir(parents=True, exist_ok=True)\n",
    "\n",
    "    df = pd.DataFrame(data, columns = ['Status', 'Action', 'Values'])\n",
    "    result_path = os.path.join(folder_path, dataset_name + \"(actions)-\" + start_date + \"_\" + end_date + \".csv\")\n",
    "    df.to_csv(result_path, encoding='utf-8', index=False)\n",
    "    return\n",
    "\n",
    "## useful for getting all the actions for a specific dataset\n",
    "## all responses go to the custom folder\n",
    "# dataset_actions(start_date, end_date, <Dataset_name>)\n",
    "dataset_actions(start_date, end_date, \"test-ps-SODA\")"
   ]
  },
  {
   "cell_type": "markdown",
   "metadata": {},
   "source": [
    "### Get the number of files and the size of all datasets that was uploaded through SODA for a given time frame"
   ]
  },
  {
   "cell_type": "code",
   "execution_count": 15,
   "metadata": {},
   "outputs": [],
   "source": [
    "def dataset_statistics(start_date, end_date):\n",
    "            \n",
    "    query = {\n",
    "        'reportRequests': [\n",
    "        {\n",
    "            'viewId': VIEW_ID,\n",
    "            'dateRanges': [{'startDate': start_date, 'endDate': end_date}],\n",
    "            'metrics': [{'expression': 'ga:uniqueEvents'}],\n",
    "            'dimensions': [{'name': 'ga:eventCategory'}, {'name': 'ga:eventAction'}, {'name': 'ga:eventLabel'}]\n",
    "        }]\n",
    "    }\n",
    "    response = get_report(analytics, query)\n",
    "    response_rows = response[\"reports\"][0][\"data\"][\"rows\"]\n",
    "    \n",
    "    for res in response_rows:\n",
    "#         print(res)\n",
    "        if res[\"dimensions\"][1] == \"Upload Local Dataset - Number of Files\":\n",
    "            cell_data = [res[\"dimensions\"][0], res[\"dimensions\"][2], 0]\n",
    "            data.append(cell_data)\n",
    "        if res[\"dimensions\"][1] == \"Upload Local Dataset - size\":\n",
    "            cell_data = [res[\"dimensions\"][0], 0, res[\"dimensions\"][2]]\n",
    "            data.append(cell_data)\n",
    "        if res[\"dimensions\"][1] == \"Generate Dataset - Number of Files\":\n",
    "            cell_data = [res[\"dimensions\"][0], res[\"dimensions\"][2], 0]\n",
    "            data.append(cell_data)\n",
    "        if res[\"dimensions\"][1] == \"Generate Dataset - Size\":\n",
    "            cell_data = [res[\"dimensions\"][0], 0, res[\"dimensions\"][2]]\n",
    "            data.append(cell_data)\n",
    "        \n",
    "    folder_path = os.path.join(\"result_csv\", \"custom\")\n",
    "    Path(folder_path).mkdir(parents=True, exist_ok=True)\n",
    "\n",
    "    df = pd.DataFrame(data, columns = ['Status', 'Number of Files', 'Size in (bytes)'])\n",
    "    result_path = os.path.join(folder_path, \"dataset_statistics-\" + start_date + \"_\" + end_date + \".csv\")\n",
    "    df.to_csv(result_path, encoding='utf-8', index=False)\n",
    "    return\n",
    "\n",
    "## useful for getting all details for upload to Pennsieve for a specific time period\n",
    "## all responses go to the custom folder\n",
    "# num_of_files_folders_in_dataset(start_date, end_date)\n",
    "dataset_statistics(start_date, end_date)"
   ]
  },
  {
   "cell_type": "markdown",
   "metadata": {},
   "source": [
    "### Get the number of files and the size of a specific dataset that was uploaded through SODA"
   ]
  },
  {
   "cell_type": "code",
   "execution_count": 16,
   "metadata": {},
   "outputs": [],
   "source": [
    "def num_of_files_folders_in_dataset(start_date, end_date, dataset_name):\n",
    "    query = {\n",
    "        'reportRequests': [\n",
    "        {\n",
    "            'viewId': VIEW_ID,\n",
    "            'dateRanges': [{'startDate': start_date, 'endDate': end_date}],\n",
    "            'metrics': [{'expression': 'ga:totalEvents'}],\n",
    "            'dimensions': [{'name': 'ga:eventCategory'}, {'name': 'ga:eventAction'}, {'name': 'ga:eventLabel'}]\n",
    "        }]\n",
    "    }\n",
    "    response = get_report(analytics, query)\n",
    "    response_rows = response[\"reports\"][0][\"data\"][\"rows\"]\n",
    "    data = []\n",
    "    \n",
    "    for res in response_rows:\n",
    "        if res[\"dimensions\"][1].find(\"Upload Local Dataset\") != -1:\n",
    "            if res[\"dimensions\"][1].find(dataset_name) != -1:\n",
    "                if res[\"dimensions\"][1].find('Number of Files') != -1:\n",
    "                    cell_data = [res[\"dimensions\"][0], res[\"dimensions\"][2], 0]\n",
    "                    data.append(cell_data)\n",
    "                if res[\"dimensions\"][1].find('- size') != -1:\n",
    "                    cell_data = [res[\"dimensions\"][0], 0, res[\"dimensions\"][2]]\n",
    "                    data.append(cell_data)\n",
    "            \n",
    "    query = {\n",
    "        'reportRequests': [\n",
    "        {\n",
    "            'viewId': VIEW_ID,\n",
    "            'dateRanges': [{'startDate': start_date, 'endDate': end_date}],\n",
    "            'metrics': [{'expression': 'ga:eventValue'}],\n",
    "            'dimensions': [{'name': 'ga:eventCategory'}, {'name': 'ga:eventAction'}, {'name': 'ga:eventLabel'}]\n",
    "        }]\n",
    "    }\n",
    "    response = get_report(analytics, query)\n",
    "    response_rows = response[\"reports\"][0][\"data\"][\"rows\"]\n",
    "    res[\"metrics\"][0][\"values\"][0]\n",
    "    for res in response_rows:\n",
    "        if res[\"dimensions\"][1].find(\"Generate Dataset\") != -1:\n",
    "            if res[\"dimensions\"][2].find(dataset_name) != -1:\n",
    "                if res[\"dimensions\"][1] == 'Generate Dataset - Number of Files':\n",
    "                    cell_data = [res[\"dimensions\"][0], res[\"metrics\"][0][\"values\"][0], 0]\n",
    "                    data.append(cell_data)\n",
    "                if res[\"dimensions\"][1] == 'Generate Dataset - Size':\n",
    "                    cell_data = [res[\"dimensions\"][0], 0, res[\"metrics\"][0][\"values\"][0]]\n",
    "                    data.append(cell_data)\n",
    "                \n",
    "                    \n",
    "    folder_path = os.path.join(\"result_csv\", \"custom\")\n",
    "    Path(folder_path).mkdir(parents=True, exist_ok=True)\n",
    "\n",
    "    df = pd.DataFrame(data, columns = ['Status', 'Number of Files', 'Size in (bytes)'])\n",
    "    result_path = os.path.join(folder_path, dataset_name + \"(details)-\" + start_date + \"_\" + end_date + \".csv\")\n",
    "    df.to_csv(result_path, encoding='utf-8', index=False)\n",
    "    return\n",
    "\n",
    "## useful for getting all the number of files and size for a specific dataset\n",
    "## all responses go to the custom folder\n",
    "# num_of_files_folders_in_dataset(start_date, end_date, <Dataset_name>)\n",
    "num_of_files_folders_in_dataset(start_date, end_date, \"test-ps-SODA\")"
   ]
  },
  {
   "cell_type": "code",
   "execution_count": null,
   "metadata": {},
   "outputs": [],
   "source": []
  }
 ],
 "metadata": {
  "kernelspec": {
   "display_name": "Python 3",
   "language": "python",
   "name": "python3"
  },
  "language_info": {
   "codemirror_mode": {
    "name": "ipython",
    "version": 3
   },
   "file_extension": ".py",
   "mimetype": "text/x-python",
   "name": "python",
   "nbconvert_exporter": "python",
   "pygments_lexer": "ipython3",
   "version": "3.8.5"
  }
 },
 "nbformat": 4,
 "nbformat_minor": 5
}
